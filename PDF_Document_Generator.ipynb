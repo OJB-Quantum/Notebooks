{
  "nbformat": 4,
  "nbformat_minor": 0,
  "metadata": {
    "colab": {
      "provenance": [],
      "authorship_tag": "ABX9TyPPsmo2htfPMZSf5p1ShQZA",
      "include_colab_link": true
    },
    "kernelspec": {
      "name": "python3",
      "display_name": "Python 3"
    },
    "language_info": {
      "name": "python"
    }
  },
  "cells": [
    {
      "cell_type": "markdown",
      "metadata": {
        "id": "view-in-github",
        "colab_type": "text"
      },
      "source": [
        "<a href=\"https://colab.research.google.com/github/OJB-Quantum/Notebooks/blob/main/PDF_Document_Generator.ipynb\" target=\"_parent\"><img src=\"https://colab.research.google.com/assets/colab-badge.svg\" alt=\"Open In Colab\"/></a>"
      ]
    },
    {
      "cell_type": "code",
      "source": [
        "!pip install reportlab"
      ],
      "metadata": {
        "colab": {
          "base_uri": "https://localhost:8080/"
        },
        "id": "GujDjkdKjJ4g",
        "outputId": "f8545a04-a911-44f6-9dbe-ebe368f3afe0"
      },
      "execution_count": 20,
      "outputs": [
        {
          "output_type": "stream",
          "name": "stdout",
          "text": [
            "Collecting reportlab\n",
            "  Downloading reportlab-4.0.8-py3-none-any.whl (1.9 MB)\n",
            "\u001b[2K     \u001b[90m━━━━━━━━━━━━━━━━━━━━━━━━━━━━━━━━━━━━━━━━\u001b[0m \u001b[32m1.9/1.9 MB\u001b[0m \u001b[31m7.4 MB/s\u001b[0m eta \u001b[36m0:00:00\u001b[0m\n",
            "\u001b[?25hRequirement already satisfied: pillow>=9.0.0 in /usr/local/lib/python3.10/dist-packages (from reportlab) (9.4.0)\n",
            "Requirement already satisfied: chardet in /usr/local/lib/python3.10/dist-packages (from reportlab) (5.2.0)\n",
            "Installing collected packages: reportlab\n",
            "Successfully installed reportlab-4.0.8\n"
          ]
        }
      ]
    },
    {
      "cell_type": "code",
      "source": [
        "# prompt: Create a script to generate a PDF document with default margins in letter format using the reportlab library. Let it prompt me for a title and x number of paragraphs to print on the PDF. Let it prompt me for each paragraph. Finally, prompt for a PDF title, then print it.\n",
        "\n",
        "from reportlab.lib.pagesizes import letter\n",
        "from reportlab.platypus import SimpleDocTemplate, Paragraph, Spacer\n",
        "from reportlab.lib.styles import getSampleStyleSheet\n",
        "from reportlab.lib.units import inch\n",
        "\n",
        "# Function to create a PDF document\n",
        "def create_pdf(title, paragraph):\n",
        "    # Create a PDF document with 1-inch margins\n",
        "    doc = SimpleDocTemplate(\"output.pdf\", pagesize=letter,\n",
        "                            leftMargin=1*inch, rightMargin=1*inch,\n",
        "                            topMargin=1*inch, bottomMargin=1*inch)\n",
        "\n",
        "    # Create a list to hold the content of the PDF\n",
        "    story = []\n",
        "\n",
        "    # Define styles for title and paragraph\n",
        "    styles = getSampleStyleSheet()\n",
        "    title_style = styles[\"Title\"]\n",
        "    title_style.alignment = 1  # Center alignment for the title\n",
        "    paragraph_style = styles[\"Normal\"]\n",
        "\n",
        "    # Add the title and paragraph to the PDF content\n",
        "    title_text = \"<u>{}</u>\".format(title)\n",
        "    title_paragraph = Paragraph(title_text, title_style)\n",
        "    story.append(title_paragraph)\n",
        "\n",
        "    # Add a spacer to separate the title and paragraph\n",
        "    story.append(Spacer(1, 0.5*inch))\n",
        "\n",
        "    # Read the paragraph text from the file\n",
        "    with open(paragraph, 'r') as file:\n",
        "        paragraph_text = file.read()\n",
        "\n",
        "    paragraph_paragraph = Paragraph(paragraph_text, paragraph_style)\n",
        "    story.append(paragraph_paragraph)\n",
        "\n",
        "    # Build the PDF document\n",
        "    doc.build(story)\n",
        "\n",
        "if __name__ == \"__main__\":\n",
        "    # Prompt the user for a title and paragraph file\n",
        "    title = input(\"Enter a title: \")\n",
        "    paragraph_file = input(\"Enter the path to the paragraph text file: \")\n",
        "\n",
        "    # Create the PDF document\n",
        "    create_pdf(title, paragraph_file)\n",
        "\n",
        "    print(\"PDF document 'output.pdf' has been generated.\")\n",
        "\n"
      ],
      "metadata": {
        "colab": {
          "base_uri": "https://localhost:8080/"
        },
        "id": "XN5CsSj5irEV",
        "outputId": "7737ee4c-c87e-4406-dcc3-6e9229e72217"
      },
      "execution_count": 28,
      "outputs": [
        {
          "output_type": "stream",
          "name": "stdout",
          "text": [
            "Enter a title: Navaho Linguistics for Quantum Hardware Education by Onri Jay Benally\n",
            "Enter the path to the paragraph text file: Navaho_QWE.txt\n",
            "PDF document 'output.pdf' has been generated.\n"
          ]
        }
      ]
    }
  ]
}