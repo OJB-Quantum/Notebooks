{
 "cells": [
  {
   "cell_type": "code",
   "execution_count": null,
   "id": "f924d01b",
   "metadata": {},
   "outputs": [],
   "source": [
    "# Quick example of an array of circles plotted in shapely.\n",
    "\n",
    "from shapely.geometry import Point, MultiPolygon\n",
    "import matplotlib.pyplot as plt\n",
    "\n",
    "# Define the circle creation function\n",
    "def create_circle(x_center, y_center, diameter):\n",
    "    radius = diameter / 2.0\n",
    "    return Point(x_center, y_center).buffer(radius)  # Create a circle as a buffer around the point\n",
    "\n",
    "# Set the diameter and spacing\n",
    "diameter_mm = 10.0\n",
    "spacing_mm = 20.0\n",
    "\n",
    "# Initialize a list to hold the circles\n",
    "circles_array = []\n",
    "\n",
    "# Calculate the total distance between the centers of adjacent circles\n",
    "center_distance_mm = diameter_mm + spacing_mm  # Since they are 10 mm in diameter and 20 mm apart, their centers are 30 mm apart\n",
    "\n",
    "# Create a 4x4 array of circles\n",
    "for i in range(4):\n",
    "    row_circles = []\n",
    "    for j in range(4):\n",
    "        x_center = i * center_distance_mm + diameter_mm / 2  # Offset by radius for the first circle's center\n",
    "        y_center = j * center_distance_mm + diameter_mm / 2\n",
    "        circle = create_circle(x_center, y_center, diameter_mm)\n",
    "        row_circles.append(circle)\n",
    "    circles_array.append(row_circles)\n",
    "\n",
    "# Now `circles_array` contains all our circle objects.\n",
    "# We can visualize it using matplotlib (optional step).\n",
    "\n",
    "# Plot the circles using matplotlib\n",
    "fig, ax = plt.subplots()\n",
    "for row in circles_array:\n",
    "    for circle in row:\n",
    "        x, y = circle.exterior.xy  # Get the x and y coordinates of the circle's exterior\n",
    "        ax.fill(x, y, alpha=0.5, fc='blue', ec='black')  # Fill the circle with blue color\n",
    "\n",
    "# Set equal aspect ratio\n",
    "ax.set_aspect('equal')\n",
    "\n",
    "# Show plot with a buffered frame around the circles\n",
    "ax.set_xlim(0 - diameter_mm, 4 * center_distance_mm)\n",
    "ax.set_ylim(0 - diameter_mm, 4 * center_distance_mm)\n",
    "plt.show()"
   ]
  }
 ],
 "metadata": {
  "kernelspec": {
   "display_name": "quantum_kernel",
   "language": "python",
   "name": "quantum_kernel"
  },
  "language_info": {
   "codemirror_mode": {
    "name": "ipython",
    "version": 3
   },
   "file_extension": ".py",
   "mimetype": "text/x-python",
   "name": "python",
   "nbconvert_exporter": "python",
   "pygments_lexer": "ipython3",
   "version": "3.10.8"
  }
 },
 "nbformat": 4,
 "nbformat_minor": 5
}
