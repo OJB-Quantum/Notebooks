{
  "nbformat": 4,
  "nbformat_minor": 0,
  "metadata": {
    "colab": {
      "provenance": [],
      "authorship_tag": "ABX9TyPviIs5oMxoo4s6pOVQMYYj",
      "include_colab_link": true
    },
    "kernelspec": {
      "name": "python3",
      "display_name": "Python 3"
    },
    "language_info": {
      "name": "python"
    }
  },
  "cells": [
    {
      "cell_type": "markdown",
      "metadata": {
        "id": "view-in-github",
        "colab_type": "text"
      },
      "source": [
        "<a href=\"https://colab.research.google.com/github/OJB-Quantum/Notebooks/blob/main/Machine_Learning_with_Onri's_Prompts.ipynb\" target=\"_parent\"><img src=\"https://colab.research.google.com/assets/colab-badge.svg\" alt=\"Open In Colab\"/></a>"
      ]
    },
    {
      "cell_type": "code",
      "execution_count": null,
      "metadata": {
        "colab": {
          "base_uri": "https://localhost:8080/"
        },
        "id": "SeUNBSP9bD87",
        "outputId": "93047d72-f982-4205-a2fb-dabe7ee4af4a"
      },
      "outputs": [
        {
          "output_type": "stream",
          "name": "stdout",
          "text": [
            "Downloading data from https://storage.googleapis.com/tensorflow/tf-keras-datasets/mnist.npz\n",
            "11490434/11490434 [==============================] - 0s 0us/step\n",
            "Epoch 1/10\n",
            "469/469 [==============================] - 8s 15ms/step - loss: 0.2310 - accuracy: 0.9324\n",
            "Epoch 2/10\n",
            "469/469 [==============================] - 7s 15ms/step - loss: 0.0828 - accuracy: 0.9750\n",
            "Epoch 3/10\n",
            "469/469 [==============================] - 6s 12ms/step - loss: 0.0514 - accuracy: 0.9840\n",
            "Epoch 4/10\n",
            "469/469 [==============================] - 6s 14ms/step - loss: 0.0398 - accuracy: 0.9873\n",
            "Epoch 5/10\n",
            "469/469 [==============================] - 7s 14ms/step - loss: 0.0280 - accuracy: 0.9911\n",
            "Epoch 6/10\n",
            "469/469 [==============================] - 7s 15ms/step - loss: 0.0213 - accuracy: 0.9934\n",
            "Epoch 7/10\n",
            "469/469 [==============================] - 6s 13ms/step - loss: 0.0190 - accuracy: 0.9936\n",
            "Epoch 8/10\n",
            "469/469 [==============================] - 7s 16ms/step - loss: 0.0172 - accuracy: 0.9942\n",
            "Epoch 9/10\n",
            "469/469 [==============================] - 6s 13ms/step - loss: 0.0121 - accuracy: 0.9958\n",
            "Epoch 10/10\n",
            "469/469 [==============================] - 7s 16ms/step - loss: 0.0112 - accuracy: 0.9963\n"
          ]
        }
      ],
      "source": [
        "import numpy as np\n",
        "from keras.datasets import mnist\n",
        "from keras.models import Sequential\n",
        "from keras.layers import Dense\n",
        "from keras.utils import to_categorical\n",
        "\n",
        "# Load MNIST dataset\n",
        "(X_train, y_train), (X_test, y_test) = mnist.load_data()\n",
        "\n",
        "# Preprocess the data\n",
        "X_train = X_train.reshape(-1, 28 * 28) / 255.0\n",
        "X_test = X_test.reshape(-1, 28 * 28) / 255.0\n",
        "y_train = to_categorical(y_train)\n",
        "# y_test = to_categorical(y_test)  (not evaluating on the test set)\n",
        "\n",
        "# Build the model\n",
        "model = Sequential()\n",
        "model.add(Dense(512, activation='relu', input_shape=(28 * 28,)))\n",
        "model.add(Dense(256, activation='relu'))\n",
        "model.add(Dense(10, activation='softmax'))\n",
        "\n",
        "# Compile the model\n",
        "model.compile(optimizer='adam', loss='categorical_crossentropy', metrics=['accuracy'])\n",
        "\n",
        "# Train the model\n",
        "model.fit(X_train, y_train, batch_size=128, epochs=10, verbose=1)\n",
        "\n",
        "# Save the trained model\n",
        "model.save('mnist_model.h5')\n"
      ]
    },
    {
      "cell_type": "code",
      "source": [
        "import numpy as np\n",
        "from keras.datasets import mnist\n",
        "from keras.models import Sequential\n",
        "from keras.layers import Dense\n",
        "from keras.utils import to_categorical\n",
        "\n",
        "# Load MNIST dataset\n",
        "(X_train, y_train), (X_test, y_test) = mnist.load_data()\n",
        "\n",
        "# Preprocess the data\n",
        "X_train = X_train.reshape(-1, 28 * 28) / 255.0\n",
        "X_test = X_test.reshape(-1, 28 * 28) / 255.0\n",
        "\n",
        "# Build the model\n",
        "model = Sequential()\n",
        "model.add(Dense(512, activation='relu', input_shape=(28 * 28,)))\n",
        "model.add(Dense(256, activation='relu'))\n",
        "model.add(Dense(10, activation='softmax'))\n",
        "\n",
        "# Compile the model\n",
        "model.compile(optimizer='adam', loss='sparse_categorical_crossentropy', metrics=['accuracy'])\n",
        "\n",
        "# Train the model\n",
        "model.fit(X_train, y_train, batch_size=128, epochs=10, verbose=1)\n",
        "\n",
        "# Save the trained model\n",
        "model.save('mnist_model.h5')\n"
      ],
      "metadata": {
        "colab": {
          "base_uri": "https://localhost:8080/"
        },
        "id": "Vrn_Q-U7bMhq",
        "outputId": "68028f14-73d9-4e41-db07-ec0de12498ef"
      },
      "execution_count": null,
      "outputs": [
        {
          "output_type": "stream",
          "name": "stdout",
          "text": [
            "Epoch 1/10\n",
            "469/469 [==============================] - 7s 13ms/step - loss: 0.2275 - accuracy: 0.9330\n",
            "Epoch 2/10\n",
            "469/469 [==============================] - 8s 16ms/step - loss: 0.0834 - accuracy: 0.9749\n",
            "Epoch 3/10\n",
            "469/469 [==============================] - 6s 13ms/step - loss: 0.0531 - accuracy: 0.9840\n",
            "Epoch 4/10\n",
            "469/469 [==============================] - 7s 15ms/step - loss: 0.0374 - accuracy: 0.9880\n",
            "Epoch 5/10\n",
            "469/469 [==============================] - 6s 14ms/step - loss: 0.0283 - accuracy: 0.9908\n",
            "Epoch 6/10\n",
            "469/469 [==============================] - 7s 15ms/step - loss: 0.0235 - accuracy: 0.9923\n",
            "Epoch 7/10\n",
            "469/469 [==============================] - 7s 15ms/step - loss: 0.0172 - accuracy: 0.9944\n",
            "Epoch 8/10\n",
            "469/469 [==============================] - 7s 15ms/step - loss: 0.0156 - accuracy: 0.9946\n",
            "Epoch 9/10\n",
            "469/469 [==============================] - 6s 14ms/step - loss: 0.0141 - accuracy: 0.9948\n",
            "Epoch 10/10\n",
            "469/469 [==============================] - 7s 16ms/step - loss: 0.0130 - accuracy: 0.9957\n"
          ]
        }
      ]
    },
    {
      "cell_type": "code",
      "source": [
        "import numpy as np\n",
        "from keras.datasets import mnist\n",
        "from keras.models import Sequential\n",
        "from keras.layers import Conv2D, MaxPooling2D, Flatten, Dense\n",
        "from keras.utils import to_categorical\n",
        "\n",
        "# Load MNIST dataset\n",
        "(X_train, y_train), (X_test, y_test) = mnist.load_data()\n",
        "\n",
        "# Preprocess the data\n",
        "X_train = X_train.reshape(-1, 28, 28, 1) / 255.0\n",
        "X_test = X_test.reshape(-1, 28, 28, 1) / 255.0\n",
        "y_train = to_categorical(y_train)\n",
        "# y_test = to_categorical(y_test)  (not evaluating on the test set)\n",
        "\n",
        "# Build the model\n",
        "model = Sequential()\n",
        "model.add(Conv2D(32, (3, 3), activation='relu', input_shape=(28, 28, 1)))\n",
        "model.add(MaxPooling2D((2, 2)))\n",
        "model.add(Conv2D(64, (3, 3), activation='relu'))\n",
        "model.add(MaxPooling2D((2, 2)))\n",
        "model.add(Flatten())\n",
        "model.add(Dense(64, activation='relu'))\n",
        "model.add(Dense(10, activation='softmax'))\n",
        "\n",
        "# Compile the model\n",
        "model.compile(optimizer='adam', loss='categorical_crossentropy', metrics=['accuracy'])\n",
        "\n",
        "# Train the model\n",
        "model.fit(X_train, y_train, batch_size=128, epochs=10, verbose=1)\n",
        "\n",
        "# Save the trained model\n",
        "model.save('mnist_model.h5')\n"
      ],
      "metadata": {
        "colab": {
          "base_uri": "https://localhost:8080/"
        },
        "id": "akyzBw40e_mU",
        "outputId": "0b57c286-6cfa-4134-d554-6326e088572d"
      },
      "execution_count": null,
      "outputs": [
        {
          "output_type": "stream",
          "name": "stdout",
          "text": [
            "Epoch 1/10\n",
            "469/469 [==============================] - 57s 120ms/step - loss: 0.2396 - accuracy: 0.9297\n",
            "Epoch 2/10\n",
            "469/469 [==============================] - 56s 118ms/step - loss: 0.0667 - accuracy: 0.9792\n",
            "Epoch 3/10\n",
            "469/469 [==============================] - 54s 114ms/step - loss: 0.0475 - accuracy: 0.9852\n",
            "Epoch 4/10\n",
            "469/469 [==============================] - 52s 111ms/step - loss: 0.0373 - accuracy: 0.9884\n",
            "Epoch 5/10\n",
            "469/469 [==============================] - 53s 112ms/step - loss: 0.0309 - accuracy: 0.9902\n",
            "Epoch 6/10\n",
            "469/469 [==============================] - 53s 113ms/step - loss: 0.0251 - accuracy: 0.9916\n",
            "Epoch 7/10\n",
            "469/469 [==============================] - 51s 109ms/step - loss: 0.0212 - accuracy: 0.9933\n",
            "Epoch 8/10\n",
            "469/469 [==============================] - 52s 111ms/step - loss: 0.0174 - accuracy: 0.9944\n",
            "Epoch 9/10\n",
            "469/469 [==============================] - 51s 109ms/step - loss: 0.0153 - accuracy: 0.9952\n",
            "Epoch 10/10\n",
            "469/469 [==============================] - 54s 115ms/step - loss: 0.0120 - accuracy: 0.9961\n"
          ]
        }
      ]
    },
    {
      "cell_type": "code",
      "source": [
        "import numpy as np\n",
        "from keras.datasets import mnist\n",
        "from keras.models import Sequential\n",
        "from keras.layers import Conv2D, MaxPooling2D, Flatten, Dense\n",
        "from keras.utils import to_categorical\n",
        "\n",
        "# Load MNIST dataset\n",
        "(X_train, y_train), (X_test, y_test) = mnist.load_data()\n",
        "\n",
        "# Preprocess the data\n",
        "X_train = X_train.reshape(-1, 28, 28, 1) / 255.0\n",
        "X_test = X_test.reshape(-1, 28, 28, 1) / 255.0\n",
        "y_train = to_categorical(y_train)\n",
        "y_test = to_categorical(y_test)\n",
        "\n",
        "# Split the training set into training and validation sets\n",
        "val_split = 0.3\n",
        "val_samples = int(val_split * X_train.shape[0])\n",
        "\n",
        "X_val = X_train[:val_samples]\n",
        "y_val = y_train[:val_samples]\n",
        "\n",
        "X_train = X_train[val_samples:]\n",
        "y_train = y_train[val_samples:]\n",
        "\n",
        "# Build the model\n",
        "model = Sequential()\n",
        "model.add(Conv2D(32, (3, 3), activation='relu', input_shape=(28, 28, 1)))\n",
        "model.add(MaxPooling2D((2, 2)))\n",
        "model.add(Conv2D(64, (3, 3), activation='relu'))\n",
        "model.add(MaxPooling2D((2, 2)))\n",
        "model.add(Flatten())\n",
        "model.add(Dense(64, activation='relu'))\n",
        "model.add(Dense(10, activation='softmax'))\n",
        "\n",
        "# Compile the model\n",
        "model.compile(optimizer='adam', loss='categorical_crossentropy', metrics=['accuracy'])\n",
        "\n",
        "# Train the model with validation set\n",
        "model.fit(X_train, y_train, validation_data=(X_val, y_val), batch_size=128, epochs=10, verbose=1)\n",
        "\n",
        "# Evaluate the model on the test set\n",
        "loss, accuracy = model.evaluate(X_test, y_test, verbose=0)\n",
        "print('Test loss:', loss)\n",
        "print('Test accuracy:', accuracy)\n",
        "\n",
        "# Save the trained model\n",
        "model.save('mnist_model.h5')\n"
      ],
      "metadata": {
        "colab": {
          "base_uri": "https://localhost:8080/"
        },
        "id": "QWmPJ9at2hsh",
        "outputId": "cb9d5cda-18d2-4757-e87b-f889bec46831"
      },
      "execution_count": null,
      "outputs": [
        {
          "output_type": "stream",
          "name": "stdout",
          "text": [
            "Epoch 1/10\n",
            "329/329 [==============================] - 43s 127ms/step - loss: 0.2915 - accuracy: 0.9174 - val_loss: 0.1062 - val_accuracy: 0.9682\n",
            "Epoch 2/10\n",
            "329/329 [==============================] - 41s 126ms/step - loss: 0.0781 - accuracy: 0.9758 - val_loss: 0.0682 - val_accuracy: 0.9789\n",
            "Epoch 3/10\n",
            "329/329 [==============================] - 41s 126ms/step - loss: 0.0565 - accuracy: 0.9829 - val_loss: 0.0689 - val_accuracy: 0.9792\n",
            "Epoch 4/10\n",
            "329/329 [==============================] - 42s 128ms/step - loss: 0.0426 - accuracy: 0.9867 - val_loss: 0.0627 - val_accuracy: 0.9814\n",
            "Epoch 5/10\n",
            "329/329 [==============================] - 40s 122ms/step - loss: 0.0354 - accuracy: 0.9892 - val_loss: 0.0468 - val_accuracy: 0.9866\n",
            "Epoch 6/10\n",
            "329/329 [==============================] - 42s 129ms/step - loss: 0.0278 - accuracy: 0.9915 - val_loss: 0.0514 - val_accuracy: 0.9854\n",
            "Epoch 7/10\n",
            "329/329 [==============================] - 41s 125ms/step - loss: 0.0237 - accuracy: 0.9924 - val_loss: 0.0409 - val_accuracy: 0.9884\n",
            "Epoch 8/10\n",
            "329/329 [==============================] - 40s 121ms/step - loss: 0.0207 - accuracy: 0.9934 - val_loss: 0.0468 - val_accuracy: 0.9869\n",
            "Epoch 9/10\n",
            "329/329 [==============================] - 40s 120ms/step - loss: 0.0148 - accuracy: 0.9953 - val_loss: 0.0458 - val_accuracy: 0.9877\n",
            "Epoch 10/10\n",
            "329/329 [==============================] - 40s 121ms/step - loss: 0.0124 - accuracy: 0.9961 - val_loss: 0.0555 - val_accuracy: 0.9857\n",
            "Test loss: 0.04444362223148346\n",
            "Test accuracy: 0.9866999983787537\n"
          ]
        }
      ]
    },
    {
      "cell_type": "code",
      "source": [
        "import numpy as np\n",
        "import matplotlib.pyplot as plt\n",
        "from keras.datasets import mnist\n",
        "from keras.models import Sequential\n",
        "from keras.layers import Conv2D, MaxPooling2D, Flatten, Dense\n",
        "from keras.utils import to_categorical\n",
        "\n",
        "# Load MNIST dataset\n",
        "(X_train, y_train), (X_test, y_test) = mnist.load_data()\n",
        "\n",
        "# Preprocess the data\n",
        "X_train = X_train.reshape(-1, 28, 28, 1) / 255.0\n",
        "X_test = X_test.reshape(-1, 28, 28, 1) / 255.0\n",
        "y_train = to_categorical(y_train)\n",
        "y_test = to_categorical(y_test)\n",
        "\n",
        "# Split the training set into training and validation sets\n",
        "val_split = 0.3\n",
        "val_samples = int(val_split * X_train.shape[0])\n",
        "\n",
        "X_val = X_train[:val_samples]\n",
        "y_val = y_train[:val_samples]\n",
        "\n",
        "X_train = X_train[val_samples:]\n",
        "y_train = y_train[val_samples:]\n",
        "\n",
        "# Build the model\n",
        "model = Sequential()\n",
        "model.add(Conv2D(32, (3, 3), activation='relu', input_shape=(28, 28, 1)))\n",
        "model.add(MaxPooling2D((2, 2)))\n",
        "model.add(Conv2D(64, (3, 3), activation='relu'))\n",
        "model.add(MaxPooling2D((2, 2)))\n",
        "model.add(Flatten())\n",
        "model.add(Dense(64, activation='relu'))\n",
        "model.add(Dense(10, activation='softmax'))\n",
        "\n",
        "# Compile the model\n",
        "model.compile(optimizer='adam', loss='categorical_crossentropy', metrics=['accuracy'])\n",
        "\n",
        "# Train the model with validation set\n",
        "history = model.fit(X_train, y_train, validation_data=(X_val, y_val), batch_size=128, epochs=10, verbose=1)\n",
        "\n",
        "# Evaluate the model on the test set\n",
        "loss, accuracy = model.evaluate(X_test, y_test, verbose=0)\n",
        "print('Test loss:', loss)\n",
        "print('Test accuracy:', accuracy)\n",
        "\n",
        "# Plot the training and validation loss\n",
        "plt.plot(history.history['loss'], label='Training Loss')\n",
        "plt.plot(history.history['val_loss'], label='Validation Loss')\n",
        "plt.xlabel('Epochs')\n",
        "plt.ylabel('Loss')\n",
        "plt.title('Training and Validation Loss')\n",
        "plt.legend()\n",
        "plt.show()\n",
        "\n",
        "# Plot 20 random images from the training set with predictions\n",
        "random_indices = np.random.randint(0, X_train.shape[0], 20)\n",
        "random_images = X_train[random_indices]\n",
        "random_labels = y_train[random_indices]\n",
        "\n",
        "predictions = model.predict(random_images)\n",
        "predicted_labels = np.argmax(predictions, axis=1)\n",
        "\n",
        "plt.figure(figsize=(12, 8))\n",
        "for i in range(20):\n",
        "    plt.subplot(4, 5, i + 1)\n",
        "    plt.imshow(random_images[i].reshape(28, 28), cmap='gray')\n",
        "    if predicted_labels[i] == np.argmax(random_labels[i]):\n",
        "        plt.title(str(predicted_labels[i]), color='green')\n",
        "    else:\n",
        "        plt.title(str(predicted_labels[i]), color='red')\n",
        "    plt.axis('off')\n",
        "plt.tight_layout()\n",
        "plt.show()\n"
      ],
      "metadata": {
        "colab": {
          "base_uri": "https://localhost:8080/",
          "height": 1000
        },
        "id": "kDdAYKRw5NW5",
        "outputId": "df9a1504-b5ac-4682-ae83-bd05332e745a"
      },
      "execution_count": null,
      "outputs": [
        {
          "output_type": "stream",
          "name": "stdout",
          "text": [
            "Epoch 1/10\n",
            "329/329 [==============================] - 57s 168ms/step - loss: 0.2921 - accuracy: 0.9180 - val_loss: 0.1073 - val_accuracy: 0.9693\n",
            "Epoch 2/10\n",
            "329/329 [==============================] - 41s 123ms/step - loss: 0.0787 - accuracy: 0.9756 - val_loss: 0.0807 - val_accuracy: 0.9749\n",
            "Epoch 3/10\n",
            "329/329 [==============================] - 41s 125ms/step - loss: 0.0560 - accuracy: 0.9827 - val_loss: 0.0520 - val_accuracy: 0.9838\n",
            "Epoch 4/10\n",
            "329/329 [==============================] - 39s 120ms/step - loss: 0.0449 - accuracy: 0.9863 - val_loss: 0.0503 - val_accuracy: 0.9857\n",
            "Epoch 5/10\n",
            "329/329 [==============================] - 39s 120ms/step - loss: 0.0349 - accuracy: 0.9889 - val_loss: 0.0487 - val_accuracy: 0.9856\n",
            "Epoch 6/10\n",
            "329/329 [==============================] - 40s 121ms/step - loss: 0.0281 - accuracy: 0.9918 - val_loss: 0.0401 - val_accuracy: 0.9881\n",
            "Epoch 7/10\n",
            "329/329 [==============================] - 39s 118ms/step - loss: 0.0240 - accuracy: 0.9925 - val_loss: 0.0445 - val_accuracy: 0.9879\n",
            "Epoch 8/10\n",
            "329/329 [==============================] - 40s 123ms/step - loss: 0.0201 - accuracy: 0.9935 - val_loss: 0.0385 - val_accuracy: 0.9891\n",
            "Epoch 9/10\n",
            "329/329 [==============================] - 38s 117ms/step - loss: 0.0155 - accuracy: 0.9951 - val_loss: 0.0462 - val_accuracy: 0.9869\n",
            "Epoch 10/10\n",
            "329/329 [==============================] - 39s 118ms/step - loss: 0.0145 - accuracy: 0.9949 - val_loss: 0.0472 - val_accuracy: 0.9870\n",
            "Test loss: 0.03848860040307045\n",
            "Test accuracy: 0.9868999719619751\n"
          ]
        },
        {
          "output_type": "display_data",
          "data": {
            "text/plain": [
              "<Figure size 640x480 with 1 Axes>"
            ],
            "image/png": "[encoded data removed]"
          },
          "metadata": {}
        },
        {
          "output_type": "stream",
          "name": "stdout",
          "text": [
            "1/1 [==============================] - 0s 107ms/step\n"
          ]
        },
        {
          "output_type": "display_data",
          "data": {
            "text/plain": [
              "<Figure size 1200x800 with 20 Axes>"
            ],
            "image/png": "[encoded data removed]"
          },
          "metadata": {}
        }
      ]
    },
    {
      "cell_type": "code",
      "source": [
        "i"
      ],
      "metadata": {
        "id": "AQVKsd6E758G"
      },
      "execution_count": null,
      "outputs": []
    }
  ]
}