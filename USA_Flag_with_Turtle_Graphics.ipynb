{
  "cells": [
    {
      "cell_type": "markdown",
      "metadata": {
        "id": "view-in-github",
        "colab_type": "text"
      },
      "source": [
        "<a href=\"https://colab.research.google.com/github/OJB-Quantum/Notebooks/blob/main/USA_Flag_with_Turtle_Graphics.ipynb\" target=\"_parent\"><img src=\"https://colab.research.google.com/assets/colab-badge.svg\" alt=\"Open In Colab\"/></a>"
      ]
    },
    {
      "cell_type": "code",
      "source": [
        "# Install a pip package in the current Jupyter kernel\n",
        "import sys\n",
        "!pip install mobilechelonian\n",
        "\n"
      ],
      "metadata": {
        "colab": {
          "base_uri": "https://localhost:8080/"
        },
        "id": "Hnec4ZQAUpBY",
        "outputId": "a2be7b76-b708-4344-946a-f9aa019b7f15"
      },
      "id": "Hnec4ZQAUpBY",
      "execution_count": 14,
      "outputs": [
        {
          "output_type": "stream",
          "name": "stdout",
          "text": [
            "Looking in indexes: https://pypi.org/simple, https://us-python.pkg.dev/colab-wheels/public/simple/\n",
            "Collecting mobilechelonian\n",
            "  Downloading mobilechelonian-0.5-py2.py3-none-any.whl (94 kB)\n",
            "\u001b[2K     \u001b[90m━━━━━━━━━━━━━━━━━━━━━━━━━━━━━━━━━━━━━━━━\u001b[0m \u001b[32m94.5/94.5 kB\u001b[0m \u001b[31m5.2 MB/s\u001b[0m eta \u001b[36m0:00:00\u001b[0m\n",
            "\u001b[?25hRequirement already satisfied: IPython in /usr/local/lib/python3.10/dist-packages (from mobilechelonian) (7.34.0)\n",
            "Requirement already satisfied: ipywidgets>=7.0.0 in /usr/local/lib/python3.10/dist-packages (from mobilechelonian) (7.7.1)\n",
            "Requirement already satisfied: ipykernel>=4.5.1 in /usr/local/lib/python3.10/dist-packages (from ipywidgets>=7.0.0->mobilechelonian) (5.5.6)\n",
            "Requirement already satisfied: ipython-genutils~=0.2.0 in /usr/local/lib/python3.10/dist-packages (from ipywidgets>=7.0.0->mobilechelonian) (0.2.0)\n",
            "Requirement already satisfied: traitlets>=4.3.1 in /usr/local/lib/python3.10/dist-packages (from ipywidgets>=7.0.0->mobilechelonian) (5.7.1)\n",
            "Requirement already satisfied: widgetsnbextension~=3.6.0 in /usr/local/lib/python3.10/dist-packages (from ipywidgets>=7.0.0->mobilechelonian) (3.6.4)\n",
            "Requirement already satisfied: jupyterlab-widgets>=1.0.0 in /usr/local/lib/python3.10/dist-packages (from ipywidgets>=7.0.0->mobilechelonian) (3.0.7)\n",
            "Requirement already satisfied: setuptools>=18.5 in /usr/local/lib/python3.10/dist-packages (from IPython->mobilechelonian) (67.7.2)\n",
            "Collecting jedi>=0.16 (from IPython->mobilechelonian)\n",
            "  Downloading jedi-0.18.2-py2.py3-none-any.whl (1.6 MB)\n",
            "\u001b[2K     \u001b[90m━━━━━━━━━━━━━━━━━━━━━━━━━━━━━━━━━━━━━━━━\u001b[0m \u001b[32m1.6/1.6 MB\u001b[0m \u001b[31m41.0 MB/s\u001b[0m eta \u001b[36m0:00:00\u001b[0m\n",
            "\u001b[?25hRequirement already satisfied: decorator in /usr/local/lib/python3.10/dist-packages (from IPython->mobilechelonian) (4.4.2)\n",
            "Requirement already satisfied: pickleshare in /usr/local/lib/python3.10/dist-packages (from IPython->mobilechelonian) (0.7.5)\n",
            "Requirement already satisfied: prompt-toolkit!=3.0.0,!=3.0.1,<3.1.0,>=2.0.0 in /usr/local/lib/python3.10/dist-packages (from IPython->mobilechelonian) (3.0.38)\n",
            "Requirement already satisfied: pygments in /usr/local/lib/python3.10/dist-packages (from IPython->mobilechelonian) (2.14.0)\n",
            "Requirement already satisfied: backcall in /usr/local/lib/python3.10/dist-packages (from IPython->mobilechelonian) (0.2.0)\n",
            "Requirement already satisfied: matplotlib-inline in /usr/local/lib/python3.10/dist-packages (from IPython->mobilechelonian) (0.1.6)\n",
            "Requirement already satisfied: pexpect>4.3 in /usr/local/lib/python3.10/dist-packages (from IPython->mobilechelonian) (4.8.0)\n",
            "Requirement already satisfied: jupyter-client in /usr/local/lib/python3.10/dist-packages (from ipykernel>=4.5.1->ipywidgets>=7.0.0->mobilechelonian) (6.1.12)\n",
            "Requirement already satisfied: tornado>=4.2 in /usr/local/lib/python3.10/dist-packages (from ipykernel>=4.5.1->ipywidgets>=7.0.0->mobilechelonian) (6.3.1)\n",
            "Requirement already satisfied: parso<0.9.0,>=0.8.0 in /usr/local/lib/python3.10/dist-packages (from jedi>=0.16->IPython->mobilechelonian) (0.8.3)\n",
            "Requirement already satisfied: ptyprocess>=0.5 in /usr/local/lib/python3.10/dist-packages (from pexpect>4.3->IPython->mobilechelonian) (0.7.0)\n",
            "Requirement already satisfied: wcwidth in /usr/local/lib/python3.10/dist-packages (from prompt-toolkit!=3.0.0,!=3.0.1,<3.1.0,>=2.0.0->IPython->mobilechelonian) (0.2.6)\n",
            "Requirement already satisfied: notebook>=4.4.1 in /usr/local/lib/python3.10/dist-packages (from widgetsnbextension~=3.6.0->ipywidgets>=7.0.0->mobilechelonian) (6.4.8)\n",
            "Requirement already satisfied: jinja2 in /usr/local/lib/python3.10/dist-packages (from notebook>=4.4.1->widgetsnbextension~=3.6.0->ipywidgets>=7.0.0->mobilechelonian) (3.1.2)\n",
            "Requirement already satisfied: pyzmq>=17 in /usr/local/lib/python3.10/dist-packages (from notebook>=4.4.1->widgetsnbextension~=3.6.0->ipywidgets>=7.0.0->mobilechelonian) (23.2.1)\n",
            "Requirement already satisfied: argon2-cffi in /usr/local/lib/python3.10/dist-packages (from notebook>=4.4.1->widgetsnbextension~=3.6.0->ipywidgets>=7.0.0->mobilechelonian) (21.3.0)\n",
            "Requirement already satisfied: jupyter-core>=4.6.1 in /usr/local/lib/python3.10/dist-packages (from notebook>=4.4.1->widgetsnbextension~=3.6.0->ipywidgets>=7.0.0->mobilechelonian) (5.3.0)\n",
            "Requirement already satisfied: nbformat in /usr/local/lib/python3.10/dist-packages (from notebook>=4.4.1->widgetsnbextension~=3.6.0->ipywidgets>=7.0.0->mobilechelonian) (5.8.0)\n",
            "Requirement already satisfied: nbconvert in /usr/local/lib/python3.10/dist-packages (from notebook>=4.4.1->widgetsnbextension~=3.6.0->ipywidgets>=7.0.0->mobilechelonian) (6.5.4)\n",
            "Requirement already satisfied: nest-asyncio>=1.5 in /usr/local/lib/python3.10/dist-packages (from notebook>=4.4.1->widgetsnbextension~=3.6.0->ipywidgets>=7.0.0->mobilechelonian) (1.5.6)\n",
            "Requirement already satisfied: Send2Trash>=1.8.0 in /usr/local/lib/python3.10/dist-packages (from notebook>=4.4.1->widgetsnbextension~=3.6.0->ipywidgets>=7.0.0->mobilechelonian) (1.8.0)\n",
            "Requirement already satisfied: terminado>=0.8.3 in /usr/local/lib/python3.10/dist-packages (from notebook>=4.4.1->widgetsnbextension~=3.6.0->ipywidgets>=7.0.0->mobilechelonian) (0.17.1)\n",
            "Requirement already satisfied: prometheus-client in /usr/local/lib/python3.10/dist-packages (from notebook>=4.4.1->widgetsnbextension~=3.6.0->ipywidgets>=7.0.0->mobilechelonian) (0.16.0)\n",
            "Requirement already satisfied: python-dateutil>=2.1 in /usr/local/lib/python3.10/dist-packages (from jupyter-client->ipykernel>=4.5.1->ipywidgets>=7.0.0->mobilechelonian) (2.8.2)\n",
            "Requirement already satisfied: platformdirs>=2.5 in /usr/local/lib/python3.10/dist-packages (from jupyter-core>=4.6.1->notebook>=4.4.1->widgetsnbextension~=3.6.0->ipywidgets>=7.0.0->mobilechelonian) (3.3.0)\n",
            "Requirement already satisfied: six>=1.5 in /usr/local/lib/python3.10/dist-packages (from python-dateutil>=2.1->jupyter-client->ipykernel>=4.5.1->ipywidgets>=7.0.0->mobilechelonian) (1.16.0)\n",
            "Requirement already satisfied: argon2-cffi-bindings in /usr/local/lib/python3.10/dist-packages (from argon2-cffi->notebook>=4.4.1->widgetsnbextension~=3.6.0->ipywidgets>=7.0.0->mobilechelonian) (21.2.0)\n",
            "Requirement already satisfied: MarkupSafe>=2.0 in /usr/local/lib/python3.10/dist-packages (from jinja2->notebook>=4.4.1->widgetsnbextension~=3.6.0->ipywidgets>=7.0.0->mobilechelonian) (2.1.2)\n",
            "Requirement already satisfied: lxml in /usr/local/lib/python3.10/dist-packages (from nbconvert->notebook>=4.4.1->widgetsnbextension~=3.6.0->ipywidgets>=7.0.0->mobilechelonian) (4.9.2)\n",
            "Requirement already satisfied: beautifulsoup4 in /usr/local/lib/python3.10/dist-packages (from nbconvert->notebook>=4.4.1->widgetsnbextension~=3.6.0->ipywidgets>=7.0.0->mobilechelonian) (4.11.2)\n",
            "Requirement already satisfied: bleach in /usr/local/lib/python3.10/dist-packages (from nbconvert->notebook>=4.4.1->widgetsnbextension~=3.6.0->ipywidgets>=7.0.0->mobilechelonian) (6.0.0)\n",
            "Requirement already satisfied: defusedxml in /usr/local/lib/python3.10/dist-packages (from nbconvert->notebook>=4.4.1->widgetsnbextension~=3.6.0->ipywidgets>=7.0.0->mobilechelonian) (0.7.1)\n",
            "Requirement already satisfied: entrypoints>=0.2.2 in /usr/local/lib/python3.10/dist-packages (from nbconvert->notebook>=4.4.1->widgetsnbextension~=3.6.0->ipywidgets>=7.0.0->mobilechelonian) (0.4)\n",
            "Requirement already satisfied: jupyterlab-pygments in /usr/local/lib/python3.10/dist-packages (from nbconvert->notebook>=4.4.1->widgetsnbextension~=3.6.0->ipywidgets>=7.0.0->mobilechelonian) (0.2.2)\n",
            "Requirement already satisfied: mistune<2,>=0.8.1 in /usr/local/lib/python3.10/dist-packages (from nbconvert->notebook>=4.4.1->widgetsnbextension~=3.6.0->ipywidgets>=7.0.0->mobilechelonian) (0.8.4)\n",
            "Requirement already satisfied: nbclient>=0.5.0 in /usr/local/lib/python3.10/dist-packages (from nbconvert->notebook>=4.4.1->widgetsnbextension~=3.6.0->ipywidgets>=7.0.0->mobilechelonian) (0.7.4)\n",
            "Requirement already satisfied: packaging in /usr/local/lib/python3.10/dist-packages (from nbconvert->notebook>=4.4.1->widgetsnbextension~=3.6.0->ipywidgets>=7.0.0->mobilechelonian) (23.1)\n",
            "Requirement already satisfied: pandocfilters>=1.4.1 in /usr/local/lib/python3.10/dist-packages (from nbconvert->notebook>=4.4.1->widgetsnbextension~=3.6.0->ipywidgets>=7.0.0->mobilechelonian) (1.5.0)\n",
            "Requirement already satisfied: tinycss2 in /usr/local/lib/python3.10/dist-packages (from nbconvert->notebook>=4.4.1->widgetsnbextension~=3.6.0->ipywidgets>=7.0.0->mobilechelonian) (1.2.1)\n",
            "Requirement already satisfied: fastjsonschema in /usr/local/lib/python3.10/dist-packages (from nbformat->notebook>=4.4.1->widgetsnbextension~=3.6.0->ipywidgets>=7.0.0->mobilechelonian) (2.16.3)\n",
            "Requirement already satisfied: jsonschema>=2.6 in /usr/local/lib/python3.10/dist-packages (from nbformat->notebook>=4.4.1->widgetsnbextension~=3.6.0->ipywidgets>=7.0.0->mobilechelonian) (4.3.3)\n",
            "Requirement already satisfied: attrs>=17.4.0 in /usr/local/lib/python3.10/dist-packages (from jsonschema>=2.6->nbformat->notebook>=4.4.1->widgetsnbextension~=3.6.0->ipywidgets>=7.0.0->mobilechelonian) (23.1.0)\n",
            "Requirement already satisfied: pyrsistent!=0.17.0,!=0.17.1,!=0.17.2,>=0.14.0 in /usr/local/lib/python3.10/dist-packages (from jsonschema>=2.6->nbformat->notebook>=4.4.1->widgetsnbextension~=3.6.0->ipywidgets>=7.0.0->mobilechelonian) (0.19.3)\n",
            "Requirement already satisfied: cffi>=1.0.1 in /usr/local/lib/python3.10/dist-packages (from argon2-cffi-bindings->argon2-cffi->notebook>=4.4.1->widgetsnbextension~=3.6.0->ipywidgets>=7.0.0->mobilechelonian) (1.15.1)\n",
            "Requirement already satisfied: soupsieve>1.2 in /usr/local/lib/python3.10/dist-packages (from beautifulsoup4->nbconvert->notebook>=4.4.1->widgetsnbextension~=3.6.0->ipywidgets>=7.0.0->mobilechelonian) (2.4.1)\n",
            "Requirement already satisfied: webencodings in /usr/local/lib/python3.10/dist-packages (from bleach->nbconvert->notebook>=4.4.1->widgetsnbextension~=3.6.0->ipywidgets>=7.0.0->mobilechelonian) (0.5.1)\n",
            "Requirement already satisfied: pycparser in /usr/local/lib/python3.10/dist-packages (from cffi>=1.0.1->argon2-cffi-bindings->argon2-cffi->notebook>=4.4.1->widgetsnbextension~=3.6.0->ipywidgets>=7.0.0->mobilechelonian) (2.21)\n",
            "Installing collected packages: jedi, mobilechelonian\n",
            "Successfully installed jedi-0.18.2 mobilechelonian-0.5\n"
          ]
        }
      ]
    },
    {
      "cell_type": "code",
      "execution_count": 15,
      "id": "8b378adb",
      "metadata": {
        "colab": {
          "base_uri": "https://localhost:8080/"
        },
        "id": "8b378adb",
        "outputId": "62857569-4449-494b-b6e4-f1059e32bddf"
      },
      "outputs": [
        {
          "output_type": "stream",
          "name": "stdout",
          "text": [
            "Looking in indexes: https://pypi.org/simple, https://us-python.pkg.dev/colab-wheels/public/simple/\n",
            "Requirement already satisfied: tk in /usr/local/lib/python3.10/dist-packages (0.1.0)\n"
          ]
        }
      ],
      "source": [
        "!pip install tk"
      ]
    },
    {
      "cell_type": "code",
      "source": [
        "from mobilechelonian import Turtle\n",
        "\n",
        "def draw_rectangle(t, width, height, color):\n",
        "    t.pencolor(color)\n",
        "    for _ in range(2):\n",
        "        t.forward(width)\n",
        "        t.right(90)\n",
        "        t.forward(height)\n",
        "        t.right(90)\n",
        "\n",
        "def draw_us_flag():\n",
        "    t = Turtle()\n",
        "    t.speed(10)\n",
        "\n",
        "    # Draw stripes\n",
        "    for i in range(13):\n",
        "        draw_rectangle(t, 380, 20, 'red' if i%2==0 else 'black')  # stripes are now either red or black\n",
        "        t.penup()\n",
        "        t.right(90)\n",
        "        t.forward(20)\n",
        "        t.right(-90)\n",
        "        t.pendown()\n",
        "\n",
        "    # Draw blue square\n",
        "    t.home()\n",
        "    t.pencolor('blue')\n",
        "    t.forward(150)\n",
        "    t.right(90)\n",
        "    t.forward(140)\n",
        "    t.right(90)\n",
        "    t.forward(150)\n",
        "    t.right(90)\n",
        "    t.forward(140)\n",
        "\n",
        "draw_us_flag()\n"
      ],
      "metadata": {
        "colab": {
          "base_uri": "https://localhost:8080/",
          "height": 17,
          "referenced_widgets": [
            "adda7be0d84648168e82ec3e5de8c5fa",
            "bf506de94f7746cf9a0a27dbb53a1050"
          ]
        },
        "id": "tn7ywvX6XGFU",
        "outputId": "dd79c231-ac06-4e7f-a066-cd4763174ede"
      },
      "id": "tn7ywvX6XGFU",
      "execution_count": 17,
      "outputs": [
        {
          "output_type": "display_data",
          "data": {
            "text/plain": [
              "Turtle()"
            ],
            "application/vnd.jupyter.widget-view+json": {
              "version_major": 2,
              "version_minor": 0,
              "model_id": "adda7be0d84648168e82ec3e5de8c5fa"
            }
          },
          "metadata": {}
        }
      ]
    },
    {
      "cell_type": "code",
      "source": [],
      "metadata": {
        "id": "Uzx2QxoPZYCw"
      },
      "id": "Uzx2QxoPZYCw",
      "execution_count": null,
      "outputs": []
    },
    {
      "cell_type": "code",
      "source": [],
      "metadata": {
        "id": "ex4FZu6EY5Zq"
      },
      "id": "ex4FZu6EY5Zq",
      "execution_count": null,
      "outputs": []
    }
  ],
  "metadata": {
    "kernelspec": {
      "display_name": "Python 3 (ipykernel)",
      "language": "python",
      "name": "python3"
    },
    "language_info": {
      "codemirror_mode": {
        "name": "ipython",
        "version": 3
      },
      "file_extension": ".py",
      "mimetype": "text/x-python",
      "name": "python",
      "nbconvert_exporter": "python",
      "pygments_lexer": "ipython3",
      "version": "3.9.13"
    },
    "colab": {
      "provenance": [],
      "include_colab_link": true
    },
    "widgets": {
      "application/vnd.jupyter.widget-state+json": {
        "adda7be0d84648168e82ec3e5de8c5fa": {
          "model_module": "@jupyter-widgets/base",
          "model_name": "DOMWidgetModel",
          "model_module_version": "1.2.0",
          "state": {
            "_dom_classes": [],
            "_model_module": "@jupyter-widgets/base",
            "_model_module_version": "1.2.0",
            "_model_name": "DOMWidgetModel",
            "_view_count": null,
            "_view_module": "nbextensions/mobilechelonianjs/turtlewidget",
            "_view_module_version": "",
            "_view_name": "TurtleView",
            "layout": "IPY_MODEL_bf506de94f7746cf9a0a27dbb53a1050",
            "points": [
              {
                "p": 1,
                "lc": "black",
                "x": 200,
                "y": 200,
                "b": 0,
                "s": 1
              },
              {
                "p": 1,
                "lc": "red",
                "x": 380,
                "y": 200,
                "b": 0,
                "s": 10
              },
              {
                "p": 1,
                "lc": "red",
                "x": 380,
                "y": 200,
                "b": 90,
                "s": 10
              },
              {
                "p": 1,
                "lc": "red",
                "x": 380,
                "y": 220,
                "b": 0,
                "s": 10
              },
              {
                "p": 1,
                "lc": "red",
                "x": 380,
                "y": 220,
                "b": 90,
                "s": 10
              },
              {
                "p": 1,
                "lc": "red",
                "x": 20,
                "y": 220,
                "b": 0,
                "s": 10
              },
              {
                "p": 1,
                "lc": "red",
                "x": 20,
                "y": 220,
                "b": 90,
                "s": 10
              },
              {
                "p": 1,
                "lc": "red",
                "x": 20,
                "y": 200,
                "b": 0,
                "s": 10
              },
              {
                "p": 1,
                "lc": "red",
                "x": 20,
                "y": 200,
                "b": 90,
                "s": 10
              },
              {
                "p": 0,
                "lc": "red",
                "x": 20,
                "y": 200,
                "b": 90,
                "s": 10
              },
              {
                "p": 0,
                "lc": "red",
                "x": 20,
                "y": 220,
                "b": 0,
                "s": 10
              },
              {
                "p": 0,
                "lc": "red",
                "x": 20,
                "y": 220,
                "b": -90,
                "s": 10
              },
              {
                "p": 1,
                "lc": "black",
                "x": 380,
                "y": 220,
                "b": 0,
                "s": 10
              },
              {
                "p": 1,
                "lc": "black",
                "x": 380,
                "y": 220,
                "b": 90,
                "s": 10
              },
              {
                "p": 1,
                "lc": "black",
                "x": 380,
                "y": 240,
                "b": 0,
                "s": 10
              },
              {
                "p": 1,
                "lc": "black",
                "x": 380,
                "y": 240,
                "b": 90,
                "s": 10
              },
              {
                "p": 1,
                "lc": "black",
                "x": 20,
                "y": 240,
                "b": 0,
                "s": 10
              },
              {
                "p": 1,
                "lc": "black",
                "x": 20,
                "y": 240,
                "b": 90,
                "s": 10
              },
              {
                "p": 1,
                "lc": "black",
                "x": 20,
                "y": 220,
                "b": 0,
                "s": 10
              },
              {
                "p": 1,
                "lc": "black",
                "x": 20,
                "y": 220,
                "b": 90,
                "s": 10
              },
              {
                "p": 0,
                "lc": "black",
                "x": 20,
                "y": 220,
                "b": 90,
                "s": 10
              },
              {
                "p": 0,
                "lc": "black",
                "x": 20,
                "y": 240,
                "b": 0,
                "s": 10
              },
              {
                "p": 0,
                "lc": "black",
                "x": 20,
                "y": 240,
                "b": -90,
                "s": 10
              },
              {
                "p": 1,
                "lc": "red",
                "x": 380,
                "y": 240,
                "b": 0,
                "s": 10
              },
              {
                "p": 1,
                "lc": "red",
                "x": 380,
                "y": 240,
                "b": 90,
                "s": 10
              },
              {
                "p": 1,
                "lc": "red",
                "x": 380,
                "y": 260,
                "b": 0,
                "s": 10
              },
              {
                "p": 1,
                "lc": "red",
                "x": 380,
                "y": 260,
                "b": 90,
                "s": 10
              },
              {
                "p": 1,
                "lc": "red",
                "x": 20,
                "y": 260,
                "b": 0,
                "s": 10
              },
              {
                "p": 1,
                "lc": "red",
                "x": 20,
                "y": 260,
                "b": 90,
                "s": 10
              },
              {
                "p": 1,
                "lc": "red",
                "x": 20,
                "y": 240,
                "b": 0,
                "s": 10
              },
              {
                "p": 1,
                "lc": "red",
                "x": 20,
                "y": 240,
                "b": 90,
                "s": 10
              },
              {
                "p": 0,
                "lc": "red",
                "x": 20,
                "y": 240,
                "b": 90,
                "s": 10
              },
              {
                "p": 0,
                "lc": "red",
                "x": 20,
                "y": 260,
                "b": 0,
                "s": 10
              },
              {
                "p": 0,
                "lc": "red",
                "x": 20,
                "y": 260,
                "b": -90,
                "s": 10
              },
              {
                "p": 1,
                "lc": "black",
                "x": 380,
                "y": 260,
                "b": 0,
                "s": 10
              },
              {
                "p": 1,
                "lc": "black",
                "x": 380,
                "y": 260,
                "b": 90,
                "s": 10
              },
              {
                "p": 1,
                "lc": "black",
                "x": 380,
                "y": 280,
                "b": 0,
                "s": 10
              },
              {
                "p": 1,
                "lc": "black",
                "x": 380,
                "y": 280,
                "b": 90,
                "s": 10
              },
              {
                "p": 1,
                "lc": "black",
                "x": 20,
                "y": 280,
                "b": 0,
                "s": 10
              },
              {
                "p": 1,
                "lc": "black",
                "x": 20,
                "y": 280,
                "b": 90,
                "s": 10
              },
              {
                "p": 1,
                "lc": "black",
                "x": 20,
                "y": 260,
                "b": 0,
                "s": 10
              },
              {
                "p": 1,
                "lc": "black",
                "x": 20,
                "y": 260,
                "b": 90,
                "s": 10
              },
              {
                "p": 0,
                "lc": "black",
                "x": 20,
                "y": 260,
                "b": 90,
                "s": 10
              },
              {
                "p": 0,
                "lc": "black",
                "x": 20,
                "y": 280,
                "b": 0,
                "s": 10
              },
              {
                "p": 0,
                "lc": "black",
                "x": 20,
                "y": 280,
                "b": -90,
                "s": 10
              },
              {
                "p": 1,
                "lc": "red",
                "x": 380,
                "y": 280,
                "b": 0,
                "s": 10
              },
              {
                "p": 1,
                "lc": "red",
                "x": 380,
                "y": 280,
                "b": 90,
                "s": 10
              },
              {
                "p": 1,
                "lc": "red",
                "x": 380,
                "y": 300,
                "b": 0,
                "s": 10
              },
              {
                "p": 1,
                "lc": "red",
                "x": 380,
                "y": 300,
                "b": 90,
                "s": 10
              },
              {
                "p": 1,
                "lc": "red",
                "x": 20,
                "y": 300,
                "b": 0,
                "s": 10
              },
              {
                "p": 1,
                "lc": "red",
                "x": 20,
                "y": 300,
                "b": 90,
                "s": 10
              },
              {
                "p": 1,
                "lc": "red",
                "x": 20,
                "y": 280,
                "b": 0,
                "s": 10
              },
              {
                "p": 1,
                "lc": "red",
                "x": 20,
                "y": 280,
                "b": 90,
                "s": 10
              },
              {
                "p": 0,
                "lc": "red",
                "x": 20,
                "y": 280,
                "b": 90,
                "s": 10
              },
              {
                "p": 0,
                "lc": "red",
                "x": 20,
                "y": 300,
                "b": 0,
                "s": 10
              },
              {
                "p": 0,
                "lc": "red",
                "x": 20,
                "y": 300,
                "b": -90,
                "s": 10
              },
              {
                "p": 1,
                "lc": "black",
                "x": 380,
                "y": 300,
                "b": 0,
                "s": 10
              },
              {
                "p": 1,
                "lc": "black",
                "x": 380,
                "y": 300,
                "b": 90,
                "s": 10
              },
              {
                "p": 1,
                "lc": "black",
                "x": 380,
                "y": 320,
                "b": 0,
                "s": 10
              },
              {
                "p": 1,
                "lc": "black",
                "x": 380,
                "y": 320,
                "b": 90,
                "s": 10
              },
              {
                "p": 1,
                "lc": "black",
                "x": 20,
                "y": 320,
                "b": 0,
                "s": 10
              },
              {
                "p": 1,
                "lc": "black",
                "x": 20,
                "y": 320,
                "b": 90,
                "s": 10
              },
              {
                "p": 1,
                "lc": "black",
                "x": 20,
                "y": 300,
                "b": 0,
                "s": 10
              },
              {
                "p": 1,
                "lc": "black",
                "x": 20,
                "y": 300,
                "b": 90,
                "s": 10
              },
              {
                "p": 0,
                "lc": "black",
                "x": 20,
                "y": 300,
                "b": 90,
                "s": 10
              },
              {
                "p": 0,
                "lc": "black",
                "x": 20,
                "y": 320,
                "b": 0,
                "s": 10
              },
              {
                "p": 0,
                "lc": "black",
                "x": 20,
                "y": 320,
                "b": -90,
                "s": 10
              },
              {
                "p": 1,
                "lc": "red",
                "x": 380,
                "y": 320,
                "b": 0,
                "s": 10
              },
              {
                "p": 1,
                "lc": "red",
                "x": 380,
                "y": 320,
                "b": 90,
                "s": 10
              },
              {
                "p": 1,
                "lc": "red",
                "x": 380,
                "y": 340,
                "b": 0,
                "s": 10
              },
              {
                "p": 1,
                "lc": "red",
                "x": 380,
                "y": 340,
                "b": 90,
                "s": 10
              },
              {
                "p": 1,
                "lc": "red",
                "x": 20,
                "y": 340,
                "b": 0,
                "s": 10
              },
              {
                "p": 1,
                "lc": "red",
                "x": 20,
                "y": 340,
                "b": 90,
                "s": 10
              },
              {
                "p": 1,
                "lc": "red",
                "x": 20,
                "y": 320,
                "b": 0,
                "s": 10
              },
              {
                "p": 1,
                "lc": "red",
                "x": 20,
                "y": 320,
                "b": 90,
                "s": 10
              },
              {
                "p": 0,
                "lc": "red",
                "x": 20,
                "y": 320,
                "b": 90,
                "s": 10
              },
              {
                "p": 0,
                "lc": "red",
                "x": 20,
                "y": 340,
                "b": 0,
                "s": 10
              },
              {
                "p": 0,
                "lc": "red",
                "x": 20,
                "y": 340,
                "b": -90,
                "s": 10
              },
              {
                "p": 1,
                "lc": "black",
                "x": 380,
                "y": 340,
                "b": 0,
                "s": 10
              },
              {
                "p": 1,
                "lc": "black",
                "x": 380,
                "y": 340,
                "b": 90,
                "s": 10
              },
              {
                "p": 1,
                "lc": "black",
                "x": 380,
                "y": 360,
                "b": 0,
                "s": 10
              },
              {
                "p": 1,
                "lc": "black",
                "x": 380,
                "y": 360,
                "b": 90,
                "s": 10
              },
              {
                "p": 1,
                "lc": "black",
                "x": 20,
                "y": 360,
                "b": 0,
                "s": 10
              },
              {
                "p": 1,
                "lc": "black",
                "x": 20,
                "y": 360,
                "b": 90,
                "s": 10
              },
              {
                "p": 1,
                "lc": "black",
                "x": 20,
                "y": 340,
                "b": 0,
                "s": 10
              },
              {
                "p": 1,
                "lc": "black",
                "x": 20,
                "y": 340,
                "b": 90,
                "s": 10
              },
              {
                "p": 0,
                "lc": "black",
                "x": 20,
                "y": 340,
                "b": 90,
                "s": 10
              },
              {
                "p": 0,
                "lc": "black",
                "x": 20,
                "y": 360,
                "b": 0,
                "s": 10
              },
              {
                "p": 0,
                "lc": "black",
                "x": 20,
                "y": 360,
                "b": -90,
                "s": 10
              },
              {
                "p": 1,
                "lc": "red",
                "x": 380,
                "y": 360,
                "b": 0,
                "s": 10
              },
              {
                "p": 1,
                "lc": "red",
                "x": 380,
                "y": 360,
                "b": 90,
                "s": 10
              },
              {
                "p": 1,
                "lc": "red",
                "x": 380,
                "y": 380,
                "b": 0,
                "s": 10
              },
              {
                "p": 1,
                "lc": "red",
                "x": 380,
                "y": 380,
                "b": 90,
                "s": 10
              },
              {
                "p": 1,
                "lc": "red",
                "x": 20,
                "y": 380,
                "b": 0,
                "s": 10
              },
              {
                "p": 1,
                "lc": "red",
                "x": 20,
                "y": 380,
                "b": 90,
                "s": 10
              },
              {
                "p": 1,
                "lc": "red",
                "x": 20,
                "y": 360,
                "b": 0,
                "s": 10
              },
              {
                "p": 1,
                "lc": "red",
                "x": 20,
                "y": 360,
                "b": 90,
                "s": 10
              },
              {
                "p": 0,
                "lc": "red",
                "x": 20,
                "y": 360,
                "b": 90,
                "s": 10
              },
              {
                "p": 0,
                "lc": "red",
                "x": 20,
                "y": 380,
                "b": 0,
                "s": 10
              },
              {
                "p": 0,
                "lc": "red",
                "x": 20,
                "y": 380,
                "b": -90,
                "s": 10
              },
              {
                "p": 1,
                "lc": "black",
                "x": 380,
                "y": 380,
                "b": 0,
                "s": 10
              },
              {
                "p": 1,
                "lc": "black",
                "x": 380,
                "y": 380,
                "b": 90,
                "s": 10
              },
              {
                "p": 1,
                "lc": "black",
                "x": 380,
                "y": 380,
                "b": 0,
                "s": 10
              },
              {
                "p": 1,
                "lc": "black",
                "x": 380,
                "y": 380,
                "b": 90,
                "s": 10
              },
              {
                "p": 1,
                "lc": "black",
                "x": 20,
                "y": 380,
                "b": 0,
                "s": 10
              },
              {
                "p": 1,
                "lc": "black",
                "x": 20,
                "y": 380,
                "b": 90,
                "s": 10
              },
              {
                "p": 1,
                "lc": "black",
                "x": 20,
                "y": 360,
                "b": 0,
                "s": 10
              },
              {
                "p": 1,
                "lc": "black",
                "x": 20,
                "y": 360,
                "b": 90,
                "s": 10
              },
              {
                "p": 0,
                "lc": "black",
                "x": 20,
                "y": 360,
                "b": 90,
                "s": 10
              },
              {
                "p": 0,
                "lc": "black",
                "x": 20,
                "y": 380,
                "b": 0,
                "s": 10
              },
              {
                "p": 0,
                "lc": "black",
                "x": 20,
                "y": 380,
                "b": -90,
                "s": 10
              },
              {
                "p": 1,
                "lc": "red",
                "x": 380,
                "y": 380,
                "b": 0,
                "s": 10
              },
              {
                "p": 1,
                "lc": "red",
                "x": 380,
                "y": 380,
                "b": 90,
                "s": 10
              },
              {
                "p": 1,
                "lc": "red",
                "x": 380,
                "y": 380,
                "b": 0,
                "s": 10
              },
              {
                "p": 1,
                "lc": "red",
                "x": 380,
                "y": 380,
                "b": 90,
                "s": 10
              },
              {
                "p": 1,
                "lc": "red",
                "x": 20,
                "y": 380,
                "b": 0,
                "s": 10
              },
              {
                "p": 1,
                "lc": "red",
                "x": 20,
                "y": 380,
                "b": 90,
                "s": 10
              },
              {
                "p": 1,
                "lc": "red",
                "x": 20,
                "y": 360,
                "b": 0,
                "s": 10
              },
              {
                "p": 1,
                "lc": "red",
                "x": 20,
                "y": 360,
                "b": 90,
                "s": 10
              },
              {
                "p": 0,
                "lc": "red",
                "x": 20,
                "y": 360,
                "b": 90,
                "s": 10
              },
              {
                "p": 0,
                "lc": "red",
                "x": 20,
                "y": 380,
                "b": 0,
                "s": 10
              },
              {
                "p": 0,
                "lc": "red",
                "x": 20,
                "y": 380,
                "b": -90,
                "s": 10
              },
              {
                "p": 1,
                "lc": "black",
                "x": 380,
                "y": 380,
                "b": 0,
                "s": 10
              },
              {
                "p": 1,
                "lc": "black",
                "x": 380,
                "y": 380,
                "b": 90,
                "s": 10
              },
              {
                "p": 1,
                "lc": "black",
                "x": 380,
                "y": 380,
                "b": 0,
                "s": 10
              },
              {
                "p": 1,
                "lc": "black",
                "x": 380,
                "y": 380,
                "b": 90,
                "s": 10
              },
              {
                "p": 1,
                "lc": "black",
                "x": 20,
                "y": 380,
                "b": 0,
                "s": 10
              },
              {
                "p": 1,
                "lc": "black",
                "x": 20,
                "y": 380,
                "b": 90,
                "s": 10
              },
              {
                "p": 1,
                "lc": "black",
                "x": 20,
                "y": 360,
                "b": 0,
                "s": 10
              },
              {
                "p": 1,
                "lc": "black",
                "x": 20,
                "y": 360,
                "b": 90,
                "s": 10
              },
              {
                "p": 0,
                "lc": "black",
                "x": 20,
                "y": 360,
                "b": 90,
                "s": 10
              },
              {
                "p": 0,
                "lc": "black",
                "x": 20,
                "y": 380,
                "b": 0,
                "s": 10
              },
              {
                "p": 0,
                "lc": "black",
                "x": 20,
                "y": 380,
                "b": -90,
                "s": 10
              },
              {
                "p": 1,
                "lc": "red",
                "x": 380,
                "y": 380,
                "b": 0,
                "s": 10
              },
              {
                "p": 1,
                "lc": "red",
                "x": 380,
                "y": 380,
                "b": 90,
                "s": 10
              },
              {
                "p": 1,
                "lc": "red",
                "x": 380,
                "y": 380,
                "b": 0,
                "s": 10
              },
              {
                "p": 1,
                "lc": "red",
                "x": 380,
                "y": 380,
                "b": 90,
                "s": 10
              },
              {
                "p": 1,
                "lc": "red",
                "x": 20,
                "y": 380,
                "b": 0,
                "s": 10
              },
              {
                "p": 1,
                "lc": "red",
                "x": 20,
                "y": 380,
                "b": 90,
                "s": 10
              },
              {
                "p": 1,
                "lc": "red",
                "x": 20,
                "y": 360,
                "b": 0,
                "s": 10
              },
              {
                "p": 1,
                "lc": "red",
                "x": 20,
                "y": 360,
                "b": 90,
                "s": 10
              },
              {
                "p": 0,
                "lc": "red",
                "x": 20,
                "y": 360,
                "b": 90,
                "s": 10
              },
              {
                "p": 0,
                "lc": "red",
                "x": 20,
                "y": 380,
                "b": 0,
                "s": 10
              },
              {
                "p": 0,
                "lc": "red",
                "x": 20,
                "y": 380,
                "b": -90,
                "s": 10
              },
              {
                "p": 1,
                "lc": "red",
                "x": 200,
                "y": 200,
                "b": 0,
                "s": 10
              },
              {
                "p": 1,
                "lc": "blue",
                "x": 350,
                "y": 200,
                "b": 0,
                "s": 10
              },
              {
                "p": 1,
                "lc": "blue",
                "x": 350,
                "y": 200,
                "b": 90,
                "s": 10
              },
              {
                "p": 1,
                "lc": "blue",
                "x": 350,
                "y": 340,
                "b": 0,
                "s": 10
              },
              {
                "p": 1,
                "lc": "blue",
                "x": 350,
                "y": 340,
                "b": 90,
                "s": 10
              },
              {
                "p": 1,
                "lc": "blue",
                "x": 200,
                "y": 340,
                "b": 0,
                "s": 10
              },
              {
                "p": 1,
                "lc": "blue",
                "x": 200,
                "y": 340,
                "b": 90,
                "s": 10
              },
              {
                "p": 1,
                "lc": "blue",
                "x": 200,
                "y": 200,
                "b": 0,
                "s": 10
              }
            ]
          }
        },
        "bf506de94f7746cf9a0a27dbb53a1050": {
          "model_module": "@jupyter-widgets/base",
          "model_name": "LayoutModel",
          "model_module_version": "1.2.0",
          "state": {
            "_model_module": "@jupyter-widgets/base",
            "_model_module_version": "1.2.0",
            "_model_name": "LayoutModel",
            "_view_count": null,
            "_view_module": "@jupyter-widgets/base",
            "_view_module_version": "1.2.0",
            "_view_name": "LayoutView",
            "align_content": null,
            "align_items": null,
            "align_self": null,
            "border": null,
            "bottom": null,
            "display": null,
            "flex": null,
            "flex_flow": null,
            "grid_area": null,
            "grid_auto_columns": null,
            "grid_auto_flow": null,
            "grid_auto_rows": null,
            "grid_column": null,
            "grid_gap": null,
            "grid_row": null,
            "grid_template_areas": null,
            "grid_template_columns": null,
            "grid_template_rows": null,
            "height": null,
            "justify_content": null,
            "justify_items": null,
            "left": null,
            "margin": null,
            "max_height": null,
            "max_width": null,
            "min_height": null,
            "min_width": null,
            "object_fit": null,
            "object_position": null,
            "order": null,
            "overflow": null,
            "overflow_x": null,
            "overflow_y": null,
            "padding": null,
            "right": null,
            "top": null,
            "visibility": null,
            "width": null
          }
        }
      }
    }
  },
  "nbformat": 4,
  "nbformat_minor": 5
}