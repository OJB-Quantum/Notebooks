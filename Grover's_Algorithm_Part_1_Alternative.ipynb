{
  "cells": [
    {
      "cell_type": "markdown",
      "metadata": {
        "id": "view-in-github",
        "colab_type": "text"
      },
      "source": [
        "<a href=\"https://colab.research.google.com/github/OJB-Quantum/Notebooks/blob/main/Grover's_Algorithm_Part_1_Alternative.ipynb\" target=\"_parent\"><img src=\"https://colab.research.google.com/assets/colab-badge.svg\" alt=\"Open In Colab\"/></a>"
      ]
    },
    {
      "cell_type": "code",
      "execution_count": null,
      "id": "da25b9d6-0353-422d-b594-7c7fae30fff0",
      "metadata": {
        "id": "da25b9d6-0353-422d-b594-7c7fae30fff0",
        "outputId": "d4e2b210-b8a7-49ff-ed01-1e987fd7d9b6"
      },
      "outputs": [
        {
          "name": "stderr",
          "output_type": "stream",
          "text": [
            "ibmqfactory.load_account:WARNING:2022-01-26 08:06:31,870: Credentials are already in use. The existing account in the session will be replaced.\n"
          ]
        }
      ],
      "source": [
        "import numpy as np\n",
        "\n",
        "# Importing standard Qiskit libraries\n",
        "from qiskit import QuantumCircuit, transpile, Aer, IBMQ\n",
        "from qiskit.tools.jupyter import *\n",
        "from qiskit.visualization import *\n",
        "from ibm_quantum_widgets import *\n",
        "from qiskit.providers.aer import QasmSimulator\n",
        "\n",
        "# Loading your IBM Quantum account(s)\n",
        "provider = IBMQ.load_account()"
      ]
    },
    {
      "cell_type": "code",
      "execution_count": null,
      "id": "4f7326e6-a3e5-4f77-a0fe-48e10f0a7186",
      "metadata": {
        "id": "4f7326e6-a3e5-4f77-a0fe-48e10f0a7186",
        "outputId": "ec651a36-1d88-4dc3-a105-e64c9e7a21e8"
      },
      "outputs": [
        {
          "data": {
            "image/png": "[encoded data removed]",
            "text/plain": [
              "<Figure size 748.652x204.68 with 1 Axes>"
            ]
          },
          "execution_count": 9,
          "metadata": {},
          "output_type": "execute_result"
        }
      ],
      "source": [
        "from qiskit import QuantumRegister, ClassicalRegister, QuantumCircuit\n",
        "from numpy import pi\n",
        "\n",
        "qreg_q = QuantumRegister(2, 'q')\n",
        "creg_c = ClassicalRegister(2, 'c')\n",
        "qc = QuantumCircuit(qreg_q, creg_c)\n",
        "\n",
        "qc.reset(qreg_q[0])\n",
        "qc.reset(qreg_q[1])\n",
        "qc.h(qreg_q[1])\n",
        "qc.h(qreg_q[0])\n",
        "qc.x(qreg_q[1])\n",
        "qc.x(qreg_q[0])\n",
        "qc.cz(qreg_q[0], qreg_q[1])\n",
        "qc.x(qreg_q[0])\n",
        "qc.x(qreg_q[1])\n",
        "qc.h(qreg_q[0])\n",
        "qc.h(qreg_q[1])\n",
        "qc.z(qreg_q[0])\n",
        "qc.z(qreg_q[1])\n",
        "qc.cz(qreg_q[0], qreg_q[1])\n",
        "qc.h(qreg_q[0])\n",
        "qc.h(qreg_q[1])\n",
        "qc.measure(qreg_q[0], creg_c[0])\n",
        "qc.measure(qreg_q[1], creg_c[1])\n",
        "qc.draw('mpl')"
      ]
    },
    {
      "cell_type": "code",
      "execution_count": null,
      "id": "1f558c94-6467-4fef-8b9e-642e92551761",
      "metadata": {
        "id": "1f558c94-6467-4fef-8b9e-642e92551761"
      },
      "outputs": [],
      "source": []
    }
  ],
  "metadata": {
    "kernelspec": {
      "display_name": "Qiskit v0.34.1 (ipykernel)",
      "language": "python",
      "name": "python3"
    },
    "language_info": {
      "codemirror_mode": {
        "name": "ipython",
        "version": 3
      },
      "file_extension": ".py",
      "mimetype": "text/x-python",
      "name": "python",
      "nbconvert_exporter": "python",
      "pygments_lexer": "ipython3",
      "version": "3.8.12"
    },
    "colab": {
      "provenance": [],
      "include_colab_link": true
    }
  },
  "nbformat": 4,
  "nbformat_minor": 5
}