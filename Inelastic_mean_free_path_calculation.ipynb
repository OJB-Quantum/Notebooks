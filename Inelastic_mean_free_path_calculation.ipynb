{
  "nbformat": 4,
  "nbformat_minor": 0,
  "metadata": {
    "colab": {
      "provenance": [],
      "authorship_tag": "ABX9TyP0zIEff/AeRLcYUY+bW8vY",
      "include_colab_link": true
    },
    "kernelspec": {
      "name": "python3",
      "display_name": "Python 3"
    },
    "language_info": {
      "name": "python"
    }
  },
  "cells": [
    {
      "cell_type": "markdown",
      "metadata": {
        "id": "view-in-github",
        "colab_type": "text"
      },
      "source": [
        "<a href=\"https://colab.research.google.com/github/OJB-Quantum/Notebooks/blob/main/Inelastic_mean_free_path_calculation.ipynb\" target=\"_parent\"><img src=\"https://colab.research.google.com/assets/colab-badge.svg\" alt=\"Open In Colab\"/></a>"
      ]
    },
    {
      "cell_type": "code",
      "execution_count": 4,
      "metadata": {
        "colab": {
          "base_uri": "https://localhost:8080/"
        },
        "id": "DdTVasnwzeWy",
        "outputId": "d8bc5d41-0194-4707-f765-4b61698dfda5"
      },
      "outputs": [
        {
          "output_type": "stream",
          "name": "stdout",
          "text": [
            "The IMFP is 6.41 angstroms\n"
          ]
        }
      ],
      "source": [
        "# TPP-2M calculator v0.1\n",
        "# C. Burrows, University of Warwick, September 2013\n",
        "\n",
        "# Python (version 2.7) TPP-2M calculator\n",
        "\n",
        "# This script calculates the inelastic mean free path according to the Bethe\n",
        "# equation used by Tanuma, Penn and Powell (# Surf. Interf. Anal., Vol. 21, 165\n",
        "# (1994)) and includes their modified (2M) beta function.\n",
        "\n",
        "# ----------------------------------------------------------------------------\n",
        "#   Still to-do:\n",
        "# ----------------------------------------------------------------------------\n",
        "# - GUI front-end\n",
        "# - User input for values\n",
        "# ----------------------------------------------------------------------------\n",
        "\n",
        "import math\n",
        "\n",
        "E_kinetic = 150.0 # Electron kinetic energy\n",
        "N_V = 8.0       # Number of valence electrons per atom or molecule\n",
        "density = 5.31   # Density in g cm^-3\n",
        "M_weight = 144.64  # Atomic or molecular weight (in atomic mass units)\n",
        "E_g = 1.35 # Band gap in eV\n",
        "\n",
        "def imfp_function(E_kinetic, N_V, density, M_weight, E_g):\n",
        "    E_p = 28.8 * math.sqrt((N_V * density) / M_weight) # Free-electron\n",
        "                                                         # plasmon energy (eV)\n",
        "\n",
        "#   TPP-2 beta\n",
        "#   beta = (-0.0216 + (0.944 / (math.sqrt(E_p**2 + E_g**2))) +\n",
        "#           (7.39E-4 * density))\n",
        "\n",
        "#   TPP-2M beta\n",
        "    beta = (-0.10 + (0.944 / (math.sqrt(E_p**2 + E_g**2))) +\n",
        "           (0.069 * (density**0.1)))\n",
        "    gamma = 0.191 * (1 / math.sqrt(density))\n",
        "    C_func = 1.97 - (1.096E-3 * E_p**2)\n",
        "    D_func = 53.4 - (0.025 * E_p**2)\n",
        "\n",
        "    imfp = (E_kinetic / ((E_p**2) * ((beta * math.log(gamma * E_kinetic))\n",
        "           - (C_func / E_kinetic) + (D_func / E_kinetic**2))))\n",
        "\n",
        "    print (\"The IMFP is %.2f angstroms\" % imfp) # imfp: inelastic mean free path\n",
        "#    print \"E_p =\", E_p\n",
        "#    print \"beta =\", beta\n",
        "#    print \"gamma =\", gamma\n",
        "#    print \"C_func =\", C_func\n",
        "#    print \"D_func =\", D_func\n",
        "    return\n",
        "\n",
        "imfp_function(E_kinetic, N_V, density, M_weight, E_g)"
      ]
    },
    {
      "cell_type": "code",
      "source": [
        "import numpy as np\n",
        "\n",
        "def mean_free_path(n, r):\n",
        "  \"\"\"Calculates the mean free path of electrons in a gas mixture. # Results are in meters.\n",
        "\n",
        "  Args:\n",
        "    n: The number density of the particles.\n",
        "    r: The diameter of the atom.\n",
        "\n",
        "  Returns:\n",
        "    The mean free path in meters.\n",
        "  \"\"\"\n",
        "\n",
        "  return 1 / (np.pi * n * r**2)\n",
        "\n",
        "# Example usage:\n",
        "\n",
        "n = 1e23 # Number density of the particles in atoms/m^3\n",
        "r = 1e-10 # Diameter of the atom in meters\n",
        "\n",
        "mfp = mean_free_path(n, r)\n",
        "\n",
        "print(\"The mean free path is\", mfp, \"meters.\")"
      ],
      "metadata": {
        "colab": {
          "base_uri": "https://localhost:8080/"
        },
        "id": "mS0lzojF0vVW",
        "outputId": "4be62bbd-fefb-41c0-8f4f-6012b4ea1ab6"
      },
      "execution_count": 8,
      "outputs": [
        {
          "output_type": "stream",
          "name": "stdout",
          "text": [
            "The mean free path is 0.0003183098861837907 meters.\n"
          ]
        }
      ]
    },
    {
      "cell_type": "code",
      "source": [
        "# Conversion from meters to millimeters\n",
        "# 1 meter = 1000 millimeters\n",
        "\n",
        "meters = 0.0003183098861837907\n",
        "millimeters = meters * 1000\n",
        "millimeters"
      ],
      "metadata": {
        "colab": {
          "base_uri": "https://localhost:8080/"
        },
        "id": "iTbI6rnD6EA8",
        "outputId": "f7f3742f-d9c4-42b6-e9e3-4992cbc066b2"
      },
      "execution_count": 10,
      "outputs": [
        {
          "output_type": "execute_result",
          "data": {
            "text/plain": [
              "0.3183098861837907"
            ]
          },
          "metadata": {},
          "execution_count": 10
        }
      ]
    }
  ]
}