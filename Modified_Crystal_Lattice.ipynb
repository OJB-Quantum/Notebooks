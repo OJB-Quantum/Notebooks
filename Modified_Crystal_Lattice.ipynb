{
  "cells": [
    {
      "cell_type": "markdown",
      "metadata": {
        "id": "view-in-github",
        "colab_type": "text"
      },
      "source": [
        "<a href=\"https://colab.research.google.com/github/OJB-Quantum/Notebooks/blob/main/Modified_Crystal_Lattice.ipynb\" target=\"_parent\"><img src=\"https://colab.research.google.com/assets/colab-badge.svg\" alt=\"Open In Colab\"/></a>"
      ]
    },
    {
      "cell_type": "markdown",
      "metadata": {
        "id": "xBFc9qG6-EQu"
      },
      "source": [
        "# Plot unit cells from given lattice vectors and atom positions in 2D and 3D"
      ]
    },
    {
      "cell_type": "markdown",
      "metadata": {
        "id": "oPiEop6--EQx"
      },
      "source": [
        "This notebook can be used to plot unit cells of an arbitrary crystal in 2D and 3D. As an input, the user provides the lattice vectors and the positions of the atoms of a unit cell in terms of the lattice vectors. Additionally, the user can specify the number of unit cells to be plotted in x-, y- or z-direction.\n",
        "\n",
        "**Press shift + enter to run cells!**"
      ]
    },
    {
      "cell_type": "code",
      "source": [
        "!pip install chart-studio\n",
        "!pip install plotly"
      ],
      "metadata": {
        "colab": {
          "base_uri": "https://localhost:8080/"
        },
        "id": "XQc-Cifl-Y9t",
        "outputId": "4e012c07-c90b-430c-edd1-af06463c3cd9"
      },
      "execution_count": 11,
      "outputs": [
        {
          "output_type": "stream",
          "name": "stdout",
          "text": [
            "Requirement already satisfied: chart-studio in /usr/local/lib/python3.10/dist-packages (1.1.0)\n",
            "Requirement already satisfied: plotly in /usr/local/lib/python3.10/dist-packages (from chart-studio) (5.15.0)\n",
            "Requirement already satisfied: requests in /usr/local/lib/python3.10/dist-packages (from chart-studio) (2.31.0)\n",
            "Requirement already satisfied: retrying>=1.3.3 in /usr/local/lib/python3.10/dist-packages (from chart-studio) (1.3.4)\n",
            "Requirement already satisfied: six in /usr/local/lib/python3.10/dist-packages (from chart-studio) (1.16.0)\n",
            "Requirement already satisfied: tenacity>=6.2.0 in /usr/local/lib/python3.10/dist-packages (from plotly->chart-studio) (8.2.3)\n",
            "Requirement already satisfied: packaging in /usr/local/lib/python3.10/dist-packages (from plotly->chart-studio) (23.2)\n",
            "Requirement already satisfied: charset-normalizer<4,>=2 in /usr/local/lib/python3.10/dist-packages (from requests->chart-studio) (3.3.2)\n",
            "Requirement already satisfied: idna<4,>=2.5 in /usr/local/lib/python3.10/dist-packages (from requests->chart-studio) (3.4)\n",
            "Requirement already satisfied: urllib3<3,>=1.21.1 in /usr/local/lib/python3.10/dist-packages (from requests->chart-studio) (2.0.7)\n",
            "Requirement already satisfied: certifi>=2017.4.17 in /usr/local/lib/python3.10/dist-packages (from requests->chart-studio) (2023.7.22)\n",
            "Requirement already satisfied: plotly in /usr/local/lib/python3.10/dist-packages (5.15.0)\n",
            "Requirement already satisfied: tenacity>=6.2.0 in /usr/local/lib/python3.10/dist-packages (from plotly) (8.2.3)\n",
            "Requirement already satisfied: packaging in /usr/local/lib/python3.10/dist-packages (from plotly) (23.2)\n"
          ]
        }
      ]
    },
    {
      "cell_type": "code",
      "execution_count": 28,
      "metadata": {
        "id": "BLZ1d1AI-EQx"
      },
      "outputs": [],
      "source": [
        "%matplotlib inline\n",
        "\n",
        "# Import required packages\n",
        "import numpy as np\n",
        "import matplotlib.pyplot as plt\n",
        "import pandas as pd\n",
        "import chart_studio as py\n",
        "import plotly.graph_objects as go\n",
        "from chart_studio import *\n",
        "from itertools import product\n",
        "from plotly.graph_objs import *\n",
        "from plotly.offline import download_plotlyjs, init_notebook_mode, plot, iplot\n"
      ]
    },
    {
      "cell_type": "code",
      "execution_count": 29,
      "metadata": {
        "id": "_m6eQU20-EQz"
      },
      "outputs": [],
      "source": [
        "# Define 2d and 3d lattice coordinate functions\n",
        "\n",
        "def unit_cell_2d(a, b, atom_pos, Nx, Ny):\n",
        "    \"\"\"Make arrays of x- and y-positions of a lattice from the\n",
        "    lattice vectors, the atom positions and the number of unit cells.\n",
        "\n",
        "    Parameters:\n",
        "    -----------\n",
        "    a : list\n",
        "        First lattice vector\n",
        "    b : list\n",
        "        Second lattice vector\n",
        "    atom_pos : list\n",
        "        Positions of atoms in the unit cells in terms of a and b\n",
        "    Nx : int\n",
        "        number of unit cells in the x-direction to be plotted\n",
        "    Ny : int\n",
        "        number of unit cells in the y-direction to be plotted\n",
        "\n",
        "    Returns:\n",
        "    --------\n",
        "    latt_coord_x : numpy.ndarray\n",
        "        Array containing the x-coordinates of all atoms to be plotted\n",
        "    latt_coord_y : numpy.ndarray\n",
        "        Array containing the y-coordinates of all atoms to be plotted\n",
        "    \"\"\"\n",
        "    latt_coord_x = []\n",
        "    latt_coord_y = []\n",
        "    for atom in atom_pos:\n",
        "        xpos = atom[0]*a[0] + atom[1]*b[0]\n",
        "        ypos = atom[0]*a[1] + atom[1]*b[1]\n",
        "        xpos_all = [(xpos + n*a[0] + m*b[0]) for n, m in product(range(Nx), range(Ny))]\n",
        "        ypos_all = [(ypos + n*a[1] + m*b[1]) for n, m in product(range(Nx), range(Ny))]\n",
        "        latt_coord_x.append(xpos_all)\n",
        "        latt_coord_y.append(ypos_all)\n",
        "    latt_coord_x = np.array(latt_coord_x).flatten()\n",
        "    latt_coord_y = np.array(latt_coord_y).flatten()\n",
        "    return latt_coord_x, latt_coord_y\n",
        "\n",
        "\n",
        "def unit_cell_3d(a, b, c, atom_pos, Nx, Ny, Nz):\n",
        "    \"\"\"Make arrays of x-, y- and z-positions of a lattice from the\n",
        "    lattice vectors, the atom positions and the number of unit cells.\n",
        "\n",
        "    Parameters:\n",
        "    -----------\n",
        "    a : list\n",
        "        First lattice vector\n",
        "    b : list\n",
        "        Second lattice vector\n",
        "    c : list\n",
        "        Third lattice vector\n",
        "    atom_pos : list\n",
        "        Positions of atoms in the unit cells in terms of a, b and c\n",
        "    Nx : int\n",
        "        number of unit cells in the x-direction to be plotted\n",
        "    Ny : int\n",
        "        number of unit cells in the y-direction to be plotted\n",
        "    Nz : int\n",
        "        number of unit cells in the z-direction to be plotted\n",
        "\n",
        "    Returns:\n",
        "    --------\n",
        "    latt_coord_x : numpy.ndarray\n",
        "        Array containing the x-coordinates of all atoms to be plotted\n",
        "    latt_coord_y : numpy.ndarray\n",
        "        Array containing the y-coordinates of all atoms to be plotted\n",
        "    latt_coord_z : numpy.ndarray\n",
        "        Array containing the z-coordinates of all atoms to be plotted\n",
        "    \"\"\"\n",
        "    latt_coord_x = []\n",
        "    latt_coord_y = []\n",
        "    latt_coord_z = []\n",
        "    for atom in atom_pos:\n",
        "        xpos = atom[0]*a[0] + atom[1]*b[0] + atom[2]*c[0]\n",
        "        ypos = atom[0]*a[1] + atom[1]*b[1] + atom[2]*c[1]\n",
        "        zpos = atom[0]*a[2] + atom[1]*b[2] + atom[2]*c[2]\n",
        "        xpos_all = [xpos + n*a[0] + m*b[0] + k*c[0] for n, m, k in\n",
        "                     product(range(Nx), range(Ny), range(Nz))]\n",
        "        ypos_all = [ypos + n*a[1] + m*b[1] + k*c[1] for n, m, k in\n",
        "                     product(range(Nx), range(Ny), range(Nz))]\n",
        "        zpos_all = [zpos + n*a[2] + m*b[2] + k*c[2] for n, m, k in\n",
        "                     product(range(Nx), range(Ny), range(Nz))]\n",
        "        latt_coord_x.append(xpos_all)\n",
        "        latt_coord_y.append(ypos_all)\n",
        "        latt_coord_z.append(zpos_all)\n",
        "    latt_coord_x = np.array(latt_coord_x).flatten()\n",
        "    latt_coord_y = np.array(latt_coord_y).flatten()\n",
        "    latt_coord_z = np.array(latt_coord_z).flatten()\n",
        "    return latt_coord_x, latt_coord_y, latt_coord_z"
      ]
    },
    {
      "cell_type": "markdown",
      "metadata": {
        "id": "DGtD1l0h-EQz"
      },
      "source": [
        "## 2D lattice plotting"
      ]
    },
    {
      "cell_type": "code",
      "execution_count": 30,
      "metadata": {
        "id": "hbdpMl-2-EQz"
      },
      "outputs": [],
      "source": [
        "# Honeycomb lattice\n",
        "\n",
        "# Lattice vectors\n",
        "a = [np.sqrt(3)/2., .5]\n",
        "b = [np.sqrt(3)/2., -.5]\n",
        "\n",
        "# Position of atoms in unit cell\n",
        "\n",
        "atom_pos = [[0, 0], [1/3., 1/3.]] # Honeycomb lattice\n",
        "\n",
        "# Number of unit cells to be plotted in x- and y-direction\n",
        "Nx = 8\n",
        "Ny = 8\n",
        "\n",
        "# Find the coordinates!\n",
        "latt_x, latt_y = unit_cell_2d(a, b, atom_pos, Nx, Ny)"
      ]
    },
    {
      "cell_type": "code",
      "execution_count": 31,
      "metadata": {
        "colab": {
          "base_uri": "https://localhost:8080/",
          "height": 334
        },
        "id": "x2EVn8w3-EQ0",
        "outputId": "4c91b7d3-93e7-41ea-95fb-eb804ada5c08"
      },
      "outputs": [
        {
          "output_type": "display_data",
          "data": {
            "text/plain": [
              "<Figure size 640x480 with 1 Axes>"
            ],
            "image/png": "[encoded data removed]"
          },
          "metadata": {}
        }
      ],
      "source": [
        "# Plot the resulting coordinates as a scatter plot\n",
        "\n",
        "ax = plt.subplot(aspect=1)\n",
        "ax.scatter(latt_x, latt_y, s=30, color='k', marker='o')\n",
        "plt.gcf()\n",
        "show_link=False"
      ]
    },
    {
      "cell_type": "markdown",
      "metadata": {
        "id": "eS6MI2AA-EQ0"
      },
      "source": [
        "## 3D plotting"
      ]
    },
    {
      "cell_type": "code",
      "execution_count": 32,
      "metadata": {
        "id": "5fc_ex_y-EQ0"
      },
      "outputs": [],
      "source": [
        "# FCC lattice\n",
        "\n",
        "# Lattice vectors\n",
        "a = [1, 0, 0]\n",
        "b = [0, 1, 0]\n",
        "c = [0, 0, 1]\n",
        "\n",
        "\n",
        "# Atom positions expressed in units of a, b, and c\n",
        "atom_pos = [[0, 0, 0],\n",
        "             [.5, .5, 0],\n",
        "             [.5, 0, .5],\n",
        "             [0, .5, .5]]\n",
        "\n",
        "# Number of unit cells to be plotted in x-, y- and z-direction\n",
        "Nx = 2\n",
        "Ny = 2\n",
        "Nz = 2\n",
        "\n",
        "# Find the coordinates!\n",
        "latt_x, latt_y, latt_z = unit_cell_3d(a, b, c, atom_pos, Nx, Ny, Nz)"
      ]
    },
    {
      "cell_type": "code",
      "execution_count": 33,
      "metadata": {
        "colab": {
          "base_uri": "https://localhost:8080/",
          "height": 542
        },
        "id": "FJe_NO0o-EQ1",
        "outputId": "fdced9e9-688e-41ec-8d7a-77ed14bd9354"
      },
      "outputs": [
        {
          "output_type": "display_data",
          "data": {
            "text/html": [
              "<html>\n",
              "<head><meta charset=\"utf-8\" /></head>\n",
              "<body>\n",
              "    <div>            <script src=\"https://cdnjs.cloudflare.com/ajax/libs/mathjax/2.7.5/MathJax.js?config=TeX-AMS-MML_SVG\"></script><script type=\"text/javascript\">if (window.MathJax && window.MathJax.Hub && window.MathJax.Hub.Config) {window.MathJax.Hub.Config({SVG: {font: \"STIX-Web\"}});}</script>                <script type=\"text/javascript\">window.PlotlyConfig = {MathJaxConfig: 'local'};</script>\n",
              "        <script charset=\"utf-8\" src=\"https://cdn.plot.ly/plotly-2.24.1.min.js\"></script>                <div id=\"cbd39a16-68bb-4065-87d7-89c0f9944b30\" class=\"plotly-graph-div\" style=\"height:525px; width:100%;\"></div>            <script type=\"text/javascript\">                                    window.PLOTLYENV=window.PLOTLYENV || {};                                    if (document.getElementById(\"cbd39a16-68bb-4065-87d7-89c0f9944b30\")) {                    Plotly.newPlot(                        \"cbd39a16-68bb-4065-87d7-89c0f9944b30\",                        [{\"marker\":{\"color\":\"rgba(0, 0, 0, .5)\",\"line\":{\"color\":\"rgb(0, 0, 0)\",\"width\":2},\"size\":4},\"mode\":\"markers\",\"x\":[0.0,0.0,0.0,0.0,1.0,1.0,1.0,1.0,0.5,0.5,0.5,0.5,1.5,1.5,1.5,1.5,0.5,0.5,0.5,0.5,1.5,1.5,1.5,1.5,0.0,0.0,0.0,0.0,1.0,1.0,1.0,1.0],\"y\":[0.0,0.0,1.0,1.0,0.0,0.0,1.0,1.0,0.5,0.5,1.5,1.5,0.5,0.5,1.5,1.5,0.0,0.0,1.0,1.0,0.0,0.0,1.0,1.0,0.5,0.5,1.5,1.5,0.5,0.5,1.5,1.5],\"z\":[0.0,1.0,0.0,1.0,0.0,1.0,0.0,1.0,0.0,1.0,0.0,1.0,0.0,1.0,0.0,1.0,0.5,1.5,0.5,1.5,0.5,1.5,0.5,1.5,0.5,1.5,0.5,1.5,0.5,1.5,0.5,1.5],\"type\":\"scatter3d\"}],                        {\"template\":{\"data\":{\"barpolar\":[{\"marker\":{\"line\":{\"color\":\"#E5ECF6\",\"width\":0.5},\"pattern\":{\"fillmode\":\"overlay\",\"size\":10,\"solidity\":0.2}},\"type\":\"barpolar\"}],\"bar\":[{\"error_x\":{\"color\":\"#2a3f5f\"},\"error_y\":{\"color\":\"#2a3f5f\"},\"marker\":{\"line\":{\"color\":\"#E5ECF6\",\"width\":0.5},\"pattern\":{\"fillmode\":\"overlay\",\"size\":10,\"solidity\":0.2}},\"type\":\"bar\"}],\"carpet\":[{\"aaxis\":{\"endlinecolor\":\"#2a3f5f\",\"gridcolor\":\"white\",\"linecolor\":\"white\",\"minorgridcolor\":\"white\",\"startlinecolor\":\"#2a3f5f\"},\"baxis\":{\"endlinecolor\":\"#2a3f5f\",\"gridcolor\":\"white\",\"linecolor\":\"white\",\"minorgridcolor\":\"white\",\"startlinecolor\":\"#2a3f5f\"},\"type\":\"carpet\"}],\"choropleth\":[{\"colorbar\":{\"outlinewidth\":0,\"ticks\":\"\"},\"type\":\"choropleth\"}],\"contourcarpet\":[{\"colorbar\":{\"outlinewidth\":0,\"ticks\":\"\"},\"type\":\"contourcarpet\"}],\"contour\":[{\"colorbar\":{\"outlinewidth\":0,\"ticks\":\"\"},\"colorscale\":[[0.0,\"#0d0887\"],[0.1111111111111111,\"#46039f\"],[0.2222222222222222,\"#7201a8\"],[0.3333333333333333,\"#9c179e\"],[0.4444444444444444,\"#bd3786\"],[0.5555555555555556,\"#d8576b\"],[0.6666666666666666,\"#ed7953\"],[0.7777777777777778,\"#fb9f3a\"],[0.8888888888888888,\"#fdca26\"],[1.0,\"#f0f921\"]],\"type\":\"contour\"}],\"heatmapgl\":[{\"colorbar\":{\"outlinewidth\":0,\"ticks\":\"\"},\"colorscale\":[[0.0,\"#0d0887\"],[0.1111111111111111,\"#46039f\"],[0.2222222222222222,\"#7201a8\"],[0.3333333333333333,\"#9c179e\"],[0.4444444444444444,\"#bd3786\"],[0.5555555555555556,\"#d8576b\"],[0.6666666666666666,\"#ed7953\"],[0.7777777777777778,\"#fb9f3a\"],[0.8888888888888888,\"#fdca26\"],[1.0,\"#f0f921\"]],\"type\":\"heatmapgl\"}],\"heatmap\":[{\"colorbar\":{\"outlinewidth\":0,\"ticks\":\"\"},\"colorscale\":[[0.0,\"#0d0887\"],[0.1111111111111111,\"#46039f\"],[0.2222222222222222,\"#7201a8\"],[0.3333333333333333,\"#9c179e\"],[0.4444444444444444,\"#bd3786\"],[0.5555555555555556,\"#d8576b\"],[0.6666666666666666,\"#ed7953\"],[0.7777777777777778,\"#fb9f3a\"],[0.8888888888888888,\"#fdca26\"],[1.0,\"#f0f921\"]],\"type\":\"heatmap\"}],\"histogram2dcontour\":[{\"colorbar\":{\"outlinewidth\":0,\"ticks\":\"\"},\"colorscale\":[[0.0,\"#0d0887\"],[0.1111111111111111,\"#46039f\"],[0.2222222222222222,\"#7201a8\"],[0.3333333333333333,\"#9c179e\"],[0.4444444444444444,\"#bd3786\"],[0.5555555555555556,\"#d8576b\"],[0.6666666666666666,\"#ed7953\"],[0.7777777777777778,\"#fb9f3a\"],[0.8888888888888888,\"#fdca26\"],[1.0,\"#f0f921\"]],\"type\":\"histogram2dcontour\"}],\"histogram2d\":[{\"colorbar\":{\"outlinewidth\":0,\"ticks\":\"\"},\"colorscale\":[[0.0,\"#0d0887\"],[0.1111111111111111,\"#46039f\"],[0.2222222222222222,\"#7201a8\"],[0.3333333333333333,\"#9c179e\"],[0.4444444444444444,\"#bd3786\"],[0.5555555555555556,\"#d8576b\"],[0.6666666666666666,\"#ed7953\"],[0.7777777777777778,\"#fb9f3a\"],[0.8888888888888888,\"#fdca26\"],[1.0,\"#f0f921\"]],\"type\":\"histogram2d\"}],\"histogram\":[{\"marker\":{\"pattern\":{\"fillmode\":\"overlay\",\"size\":10,\"solidity\":0.2}},\"type\":\"histogram\"}],\"mesh3d\":[{\"colorbar\":{\"outlinewidth\":0,\"ticks\":\"\"},\"type\":\"mesh3d\"}],\"parcoords\":[{\"line\":{\"colorbar\":{\"outlinewidth\":0,\"ticks\":\"\"}},\"type\":\"parcoords\"}],\"pie\":[{\"automargin\":true,\"type\":\"pie\"}],\"scatter3d\":[{\"line\":{\"colorbar\":{\"outlinewidth\":0,\"ticks\":\"\"}},\"marker\":{\"colorbar\":{\"outlinewidth\":0,\"ticks\":\"\"}},\"type\":\"scatter3d\"}],\"scattercarpet\":[{\"marker\":{\"colorbar\":{\"outlinewidth\":0,\"ticks\":\"\"}},\"type\":\"scattercarpet\"}],\"scattergeo\":[{\"marker\":{\"colorbar\":{\"outlinewidth\":0,\"ticks\":\"\"}},\"type\":\"scattergeo\"}],\"scattergl\":[{\"marker\":{\"colorbar\":{\"outlinewidth\":0,\"ticks\":\"\"}},\"type\":\"scattergl\"}],\"scattermapbox\":[{\"marker\":{\"colorbar\":{\"outlinewidth\":0,\"ticks\":\"\"}},\"type\":\"scattermapbox\"}],\"scatterpolargl\":[{\"marker\":{\"colorbar\":{\"outlinewidth\":0,\"ticks\":\"\"}},\"type\":\"scatterpolargl\"}],\"scatterpolar\":[{\"marker\":{\"colorbar\":{\"outlinewidth\":0,\"ticks\":\"\"}},\"type\":\"scatterpolar\"}],\"scatter\":[{\"fillpattern\":{\"fillmode\":\"overlay\",\"size\":10,\"solidity\":0.2},\"type\":\"scatter\"}],\"scatterternary\":[{\"marker\":{\"colorbar\":{\"outlinewidth\":0,\"ticks\":\"\"}},\"type\":\"scatterternary\"}],\"surface\":[{\"colorbar\":{\"outlinewidth\":0,\"ticks\":\"\"},\"colorscale\":[[0.0,\"#0d0887\"],[0.1111111111111111,\"#46039f\"],[0.2222222222222222,\"#7201a8\"],[0.3333333333333333,\"#9c179e\"],[0.4444444444444444,\"#bd3786\"],[0.5555555555555556,\"#d8576b\"],[0.6666666666666666,\"#ed7953\"],[0.7777777777777778,\"#fb9f3a\"],[0.8888888888888888,\"#fdca26\"],[1.0,\"#f0f921\"]],\"type\":\"surface\"}],\"table\":[{\"cells\":{\"fill\":{\"color\":\"#EBF0F8\"},\"line\":{\"color\":\"white\"}},\"header\":{\"fill\":{\"color\":\"#C8D4E3\"},\"line\":{\"color\":\"white\"}},\"type\":\"table\"}]},\"layout\":{\"annotationdefaults\":{\"arrowcolor\":\"#2a3f5f\",\"arrowhead\":0,\"arrowwidth\":1},\"autotypenumbers\":\"strict\",\"coloraxis\":{\"colorbar\":{\"outlinewidth\":0,\"ticks\":\"\"}},\"colorscale\":{\"diverging\":[[0,\"#8e0152\"],[0.1,\"#c51b7d\"],[0.2,\"#de77ae\"],[0.3,\"#f1b6da\"],[0.4,\"#fde0ef\"],[0.5,\"#f7f7f7\"],[0.6,\"#e6f5d0\"],[0.7,\"#b8e186\"],[0.8,\"#7fbc41\"],[0.9,\"#4d9221\"],[1,\"#276419\"]],\"sequential\":[[0.0,\"#0d0887\"],[0.1111111111111111,\"#46039f\"],[0.2222222222222222,\"#7201a8\"],[0.3333333333333333,\"#9c179e\"],[0.4444444444444444,\"#bd3786\"],[0.5555555555555556,\"#d8576b\"],[0.6666666666666666,\"#ed7953\"],[0.7777777777777778,\"#fb9f3a\"],[0.8888888888888888,\"#fdca26\"],[1.0,\"#f0f921\"]],\"sequentialminus\":[[0.0,\"#0d0887\"],[0.1111111111111111,\"#46039f\"],[0.2222222222222222,\"#7201a8\"],[0.3333333333333333,\"#9c179e\"],[0.4444444444444444,\"#bd3786\"],[0.5555555555555556,\"#d8576b\"],[0.6666666666666666,\"#ed7953\"],[0.7777777777777778,\"#fb9f3a\"],[0.8888888888888888,\"#fdca26\"],[1.0,\"#f0f921\"]]},\"colorway\":[\"#636efa\",\"#EF553B\",\"#00cc96\",\"#ab63fa\",\"#FFA15A\",\"#19d3f3\",\"#FF6692\",\"#B6E880\",\"#FF97FF\",\"#FECB52\"],\"font\":{\"color\":\"#2a3f5f\"},\"geo\":{\"bgcolor\":\"white\",\"lakecolor\":\"white\",\"landcolor\":\"#E5ECF6\",\"showlakes\":true,\"showland\":true,\"subunitcolor\":\"white\"},\"hoverlabel\":{\"align\":\"left\"},\"hovermode\":\"closest\",\"mapbox\":{\"style\":\"light\"},\"paper_bgcolor\":\"white\",\"plot_bgcolor\":\"#E5ECF6\",\"polar\":{\"angularaxis\":{\"gridcolor\":\"white\",\"linecolor\":\"white\",\"ticks\":\"\"},\"bgcolor\":\"#E5ECF6\",\"radialaxis\":{\"gridcolor\":\"white\",\"linecolor\":\"white\",\"ticks\":\"\"}},\"scene\":{\"xaxis\":{\"backgroundcolor\":\"#E5ECF6\",\"gridcolor\":\"white\",\"gridwidth\":2,\"linecolor\":\"white\",\"showbackground\":true,\"ticks\":\"\",\"zerolinecolor\":\"white\"},\"yaxis\":{\"backgroundcolor\":\"#E5ECF6\",\"gridcolor\":\"white\",\"gridwidth\":2,\"linecolor\":\"white\",\"showbackground\":true,\"ticks\":\"\",\"zerolinecolor\":\"white\"},\"zaxis\":{\"backgroundcolor\":\"#E5ECF6\",\"gridcolor\":\"white\",\"gridwidth\":2,\"linecolor\":\"white\",\"showbackground\":true,\"ticks\":\"\",\"zerolinecolor\":\"white\"}},\"shapedefaults\":{\"line\":{\"color\":\"#2a3f5f\"}},\"ternary\":{\"aaxis\":{\"gridcolor\":\"white\",\"linecolor\":\"white\",\"ticks\":\"\"},\"baxis\":{\"gridcolor\":\"white\",\"linecolor\":\"white\",\"ticks\":\"\"},\"bgcolor\":\"#E5ECF6\",\"caxis\":{\"gridcolor\":\"white\",\"linecolor\":\"white\",\"ticks\":\"\"}},\"title\":{\"x\":0.05},\"xaxis\":{\"automargin\":true,\"gridcolor\":\"white\",\"linecolor\":\"white\",\"ticks\":\"\",\"title\":{\"standoff\":15},\"zerolinecolor\":\"white\",\"zerolinewidth\":2},\"yaxis\":{\"automargin\":true,\"gridcolor\":\"white\",\"linecolor\":\"white\",\"ticks\":\"\",\"title\":{\"standoff\":15},\"zerolinecolor\":\"white\",\"zerolinewidth\":2}}}},                        {\"responsive\": true}                    ).then(function(){\n",
              "                            \n",
              "var gd = document.getElementById('cbd39a16-68bb-4065-87d7-89c0f9944b30');\n",
              "var x = new MutationObserver(function (mutations, observer) {{\n",
              "        var display = window.getComputedStyle(gd).display;\n",
              "        if (!display || display === 'none') {{\n",
              "            console.log([gd, 'removed!']);\n",
              "            Plotly.purge(gd);\n",
              "            observer.disconnect();\n",
              "        }}\n",
              "}});\n",
              "\n",
              "// Listen for the removal of the full notebook cells\n",
              "var notebookContainer = gd.closest('#notebook-container');\n",
              "if (notebookContainer) {{\n",
              "    x.observe(notebookContainer, {childList: true});\n",
              "}}\n",
              "\n",
              "// Listen for the clearing of the current output cell\n",
              "var outputEl = gd.closest('.output');\n",
              "if (outputEl) {{\n",
              "    x.observe(outputEl, {childList: true});\n",
              "}}\n",
              "\n",
              "                        })                };                            </script>        </div>\n",
              "</body>\n",
              "</html>"
            ]
          },
          "metadata": {}
        }
      ],
      "source": [
        "# Plot the coordinates as a scatter plot\n",
        "trace = go.Scatter3d(x = latt_x, y = latt_y, z=latt_z, mode = 'markers',\n",
        "                    marker = dict(size = 4, color = 'rgba(0, 0, 0, .5)',\n",
        "                    line = dict(width = 2, color = 'rgb(0, 0, 0)')),\n",
        ")\n",
        "iplot([trace], show_link=False)"
      ]
    },
    {
      "cell_type": "code",
      "execution_count": null,
      "metadata": {
        "id": "Iup3hDkj-EQ1"
      },
      "outputs": [],
      "source": []
    },
    {
      "cell_type": "code",
      "execution_count": null,
      "metadata": {
        "collapsed": true,
        "id": "qgy600kJ-EQ1"
      },
      "outputs": [],
      "source": []
    }
  ],
  "metadata": {
    "kernelspec": {
      "display_name": "Python 3",
      "name": "python3"
    },
    "language_info": {
      "codemirror_mode": {
        "name": "ipython",
        "version": 3
      },
      "file_extension": ".py",
      "mimetype": "text/x-python",
      "name": "python",
      "nbconvert_exporter": "python",
      "pygments_lexer": "ipython3",
      "version": "3.4.3+"
    },
    "colab": {
      "provenance": [],
      "include_colab_link": true
    },
    "accelerator": "TPU",
    "vp": {
      "vp_note_display": false,
      "vp_note_width": 0,
      "vp_section_display": false,
      "vp_position": {
        "width": 278
      }
    }
  },
  "nbformat": 4,
  "nbformat_minor": 0
}