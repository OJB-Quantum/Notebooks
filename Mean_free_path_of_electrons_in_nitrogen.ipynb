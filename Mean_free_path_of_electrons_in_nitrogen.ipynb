{
  "nbformat": 4,
  "nbformat_minor": 0,
  "metadata": {
    "colab": {
      "provenance": [],
      "authorship_tag": "ABX9TyPXpJY9lDfnhc3wHUWfT7XN",
      "include_colab_link": true
    },
    "kernelspec": {
      "name": "python3",
      "display_name": "Python 3"
    },
    "language_info": {
      "name": "python"
    }
  },
  "cells": [
    {
      "cell_type": "markdown",
      "metadata": {
        "id": "view-in-github",
        "colab_type": "text"
      },
      "source": [
        "<a href=\"https://colab.research.google.com/github/OJB-Quantum/Notebooks/blob/main/Mean_free_path_of_electrons_in_nitrogen.ipynb\" target=\"_parent\"><img src=\"https://colab.research.google.com/assets/colab-badge.svg\" alt=\"Open In Colab\"/></a>"
      ]
    },
    {
      "cell_type": "code",
      "source": [
        "# Mean free path of electrons in nitrogen (a) and ionization potential of nitrogen (b)\n",
        "# Given data\n",
        "from math import*\n",
        "\n",
        "a = 9003.;#constant in m−1kPa−1\n",
        "B = 256584.;#in V/m.kPa\n",
        "p = 0.5;#in kPa\n",
        "M = 1/(a*p);#mean free path in meters\n",
        "print(\"Mean free path of electron in nitrogen %.2e m\"%M)\n",
        "Vi = B/a; #ionization potential of nitrogen\n",
        "print(\"Ionization potential of nitrogen %.1f V\"%Vi)"
      ],
      "metadata": {
        "colab": {
          "base_uri": "https://localhost:8080/"
        },
        "id": "YwZXmiA5-3Oe",
        "outputId": "27eb0fa9-5309-4d4e-f26d-3c7af1ad533a"
      },
      "execution_count": 5,
      "outputs": [
        {
          "output_type": "stream",
          "name": "stdout",
          "text": [
            "Mean free path of electron in nitrogen 2.22e-04 m\n",
            "Ionization potential of nitrogen 28.5 V\n"
          ]
        }
      ]
    },
    {
      "cell_type": "code",
      "execution_count": 6,
      "metadata": {
        "colab": {
          "base_uri": "https://localhost:8080/"
        },
        "id": "u46wuyWl7q3b",
        "outputId": "5673b697-7384-4b33-c6e2-b91fe442e60a"
      },
      "outputs": [
        {
          "output_type": "stream",
          "name": "stdout",
          "text": [
            "Density of ions at distance equal to the mean free path 0.37 n0\n",
            "Density of ions at distance equal to five times the mean free path 0.0067 n0\n"
          ]
        }
      ],
      "source": [
        "# Density of ions at dist equal to mfp and five times mfp\n",
        "from math import exp\n",
        "\n",
        "# given data\n",
        "z1=-1;         #ion at a distance equal to mean free path , −x=mfp\n",
        "z2=-5;         #ion at a distance equal to five times the mean f r e e path , −x=5mfp\n",
        "#n0 is the density of ions at the origin\n",
        "n1 = exp(z1);  #density of ions at distance equal to the mean free path\n",
        "n2 = exp(z2);  #density of ions at distance equal to five times the mean free path\n",
        "print(\"Density of ions at distance equal to the mean free path %0.2f n0\"%n1)\n",
        "print(\"Density of ions at distance equal to five times the mean free path %0.4f n0\"%n2)"
      ]
    },
    {
      "cell_type": "code",
      "source": [
        "# Energy of free electrons\n",
        "# given data\n",
        "k =1.38e-21;     #boltzmanns constant\n",
        "T = 293;         # temperature in K\n",
        "e = 1.6*10** -19;\n",
        "E =(1.5*k*T)/e;\n",
        "print(\"Energy of free electron %.2f eV\"%E)"
      ],
      "metadata": {
        "colab": {
          "base_uri": "https://localhost:8080/"
        },
        "id": "YNi5OU0D9jnA",
        "outputId": "ec13a741-9010-49cb-a407-d866c125c98a"
      },
      "execution_count": 7,
      "outputs": [
        {
          "output_type": "stream",
          "name": "stdout",
          "text": [
            "Energy of free electron 3.79 eV\n"
          ]
        }
      ]
    }
  ]
}