{
  "cells": [
    {
      "cell_type": "markdown",
      "metadata": {
        "id": "view-in-github",
        "colab_type": "text"
      },
      "source": [
        "<a href=\"https://colab.research.google.com/github/OJB-Quantum/Notebooks/blob/main/USA_Flag_with_Turtle_Graphics.ipynb\" target=\"_parent\"><img src=\"https://colab.research.google.com/assets/colab-badge.svg\" alt=\"Open In Colab\"/></a>"
      ]
    },
    {
      "cell_type": "code",
      "execution_count": null,
      "id": "60db3206",
      "metadata": {
        "id": "60db3206"
      },
      "outputs": [],
      "source": [
        "from turtle import*"
      ]
    },
    {
      "cell_type": "code",
      "execution_count": null,
      "id": "7955f59a",
      "metadata": {
        "id": "7955f59a"
      },
      "outputs": [],
      "source": [
        "setup(800, 500)\n",
        "speed(0)\n",
        "\n",
        "# Set up the start coordinates for the red stripes\n",
        "stripe_x = -400\n",
        "stripe_y = 250\n",
        "\n",
        "# Draw one red stripe\n",
        "def stripe():\n",
        "    color(\"firebrick\")\n",
        "    begin_fill()\n",
        "    for i in range(2):\n",
        "        forward(800)\n",
        "        right(90)\n",
        "        forward(38)\n",
        "        right(90)\n",
        "    end_fill()\n",
        "    \n",
        "# Draw the 7 red stripes\n",
        "for i in range(7):\n",
        "    penup()\n",
        "    goto(stripe_x, stripe_y)\n",
        "    pendown()\n",
        "    stripe()\n",
        "    stripe_y = stripe_y - 76\n",
        "    \n",
        "# Draw the blue rectangle\n",
        "penup()\n",
        "goto(-400, 250)\n",
        "pendown()\n",
        "color(\"navy\")\n",
        "begin_fill()\n",
        "for i in range(2):\n",
        "    forward(350)\n",
        "    right(90)\n",
        "    forward(266)\n",
        "    right(90)\n",
        "end_fill()\n",
        "\n",
        "# Draw one star\n",
        "def star():\n",
        "    color(\"white\")\n",
        "    begin_fill()\n",
        "    for i in range(5):\n",
        "        forward(20)\n",
        "        right(144)\n",
        "    end_fill()\n",
        "\n",
        "# Set up star coordinates\n",
        "x1 = -380\n",
        "y1 = 230\n",
        "\n",
        "x2 = -350 \n",
        "y2 = 205\n",
        "\n",
        "# Code for one even row of stars\n",
        "def even_row():\n",
        "    global x1\n",
        "    global y1\n",
        "    for i in range(6):\n",
        "        penup()\n",
        "        goto(x1, y1)\n",
        "        pendown()\n",
        "        star()\n",
        "        x1 = x1 + 57\n",
        "\n",
        "# Draw the 5 even rows of stars\n",
        "for i in range(5):\n",
        "    even_row()\n",
        "    x1 = -380\n",
        "    y1 = y1 - 52\n",
        "    \n",
        "# Code for one odd row of stars\n",
        "def odd_row():\n",
        "    global x2\n",
        "    global y2\n",
        "    for i in range(5):\n",
        "        penup()\n",
        "        goto(x2, y2)\n",
        "        pendown()\n",
        "        star()\n",
        "        x2 = x2 + 57\n",
        "        \n",
        "# Draw the 4 odd rows of stars\n",
        "for i in range(4):\n",
        "    odd_row()\n",
        "    x2 = -350\n",
        "    y2 = y2 - 51\n",
        "    \n",
        "hideturtle()\n",
        "\n",
        "done()"
      ]
    },
    {
      "cell_type": "code",
      "execution_count": null,
      "id": "8b378adb",
      "metadata": {
        "id": "8b378adb"
      },
      "outputs": [],
      "source": []
    }
  ],
  "metadata": {
    "kernelspec": {
      "display_name": "Python 3 (ipykernel)",
      "language": "python",
      "name": "python3"
    },
    "language_info": {
      "codemirror_mode": {
        "name": "ipython",
        "version": 3
      },
      "file_extension": ".py",
      "mimetype": "text/x-python",
      "name": "python",
      "nbconvert_exporter": "python",
      "pygments_lexer": "ipython3",
      "version": "3.9.13"
    },
    "colab": {
      "provenance": [],
      "include_colab_link": true
    }
  },
  "nbformat": 4,
  "nbformat_minor": 5
}